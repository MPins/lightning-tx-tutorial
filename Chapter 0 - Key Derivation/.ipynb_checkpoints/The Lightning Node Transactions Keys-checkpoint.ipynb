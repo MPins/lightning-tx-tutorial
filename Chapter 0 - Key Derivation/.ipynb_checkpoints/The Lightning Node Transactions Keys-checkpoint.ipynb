{
 "cells": [
  {
   "cell_type": "markdown",
   "id": "38b5677b-a5f9-4893-9ff8-fe8402fff1c5",
   "metadata": {},
   "source": [
    "# The Lightning Node Transactions Keys\n",
    "\n",
    "We will see on the further notebooks that a Lightning Node use specific base points for specific key geneartion. This notebook will just show how these diferent base points are generated from the node master seed.\n",
    "\n",
    "## Prerequisite knowledge\n",
    "- For all notebooks:\n",
    "    - A high level understanding of the bitcoin. e.g. [Mastering Bitcoin](https://github.com/bitcoinbook/bitcoinbook) by Andreas Antonopoulos UTXO model, in particular [Chapter 6](https://github.com/bitcoinbook/bitcoinbook/blob/develop/ch06.asciidoc).\n",
    "    - A high level understanding of the Lightning Network. e.g. [Mastering Lightning](https://github.com/bitcoinbook/bitcoinbook) TODO Get the chapter to point it here\n",
    "    - A conceptual understanding of [hash functions](https://www.thesslstore.com/blog/what-is-a-hash-function-in-cryptography-a-beginners-guide).\n",
    "    - [Hexadecimal notation](https://inst.eecs.berkeley.edu/~cs61bl/r//cur/bits/decimal-binary-hex.html?topic=lab28.topic&step=2&course=) and [endianness](https://www.freecodecamp.org/news/what-is-endianness-big-endian-vs-little-endian/).\n",
    "\n",
    "- Specific to this notebook:\n",
    "    - SHA256, HASH256, HASH160 - '[Hash Functions chapter](https://github.com/MPins/lightning-tx-tutorial/blob/main/appendix/hash-functions.ipynb)'\n",
    "    - Bech32 addresses - '[Addresses chapter](https://github.com/MPins/lightning-tx-tutorial/blob/main/appendix/Addresses.ipynb)'\n",
    "    - Bitcoin Script basics - '[Bitcoin Script chapter](https://github.com/MPins/lightning-tx-tutorial/blob/main/appendix/Bitcoin%20Script.ipynb)'\n",
    "    - Lightning Network BOLT #2: '[Peer Protocol for Channel Management](https://github.com/lightning/bolts/blob/master/02-peer-protocol.md#channel-establishment-v1)'"
   ]
  },
  {
   "cell_type": "code",
   "execution_count": null,
   "id": "786796ad-449b-43be-afa3-bb731eedf830",
   "metadata": {},
   "outputs": [],
   "source": []
  },
  {
   "cell_type": "markdown",
   "id": "a3fe0cf4-8fa9-4e33-a90b-167fcc2dea62",
   "metadata": {},
   "source": [
    "## Basepoints Derivations\n",
    "A Lightning Node uses a deterministic derivation path based on the [BIP32](https://github.com/bitcoin/bips/blob/master/bip-0032.mediawiki) hierarchical deterministic (HD) wallet standard to derive the following basepoints:\n",
    "\n",
    "* Revocation basepoint\n",
    "* Payment basepoint\n",
    "* Delayed payment basepoint\n",
    "* HTLC basepoint\n",
    "\n",
    "The [BIP43](https://github.com/bitcoin/bips/blob/master/bip-0043.mediawiki) \"Purpose\" field defines the first hardened derivation level (m/purpose'/) in hierarchical deterministic wallets to distinguish between different applications. Lightning Network implementations typically use 1017' as the \"purpose\" field in their key derivation paths. This is not officially standardized by BIP43 but is a widely accepted convention among Lightning implementations like LND, Core Lightning (c-lightning), and Eclair.\n",
    "It ensures that Lightning keys are derived in a way that isolates them from other applications, such as on-chain wallets (44' for [BIP44](https://github.com/bitcoin/bips/blob/master/bip-0044.mediawiki) or 84' for [BIP84](https://github.com/bitcoin/bips/blob/master/bip-0084.mediawiki)).\n",
    "\n",
    "The LND path structure for Lightning keys is:\n",
    "\n",
    "```\n",
    "m/1017'/coinType'/keyFamily'/0/index\n",
    "```\n",
    "\n",
    "Components of the Path\n",
    "\n",
    "* m: The root of the wallet, derived from the master seed.\n",
    "* 1017': The purpose field indicating Lightning Network-specific keys.\n",
    "* coin_type': Specifies the blockchain.\n",
    "    * 0' for Bitcoin mainnet.\n",
    "    * 1' for Bitcoin testnet.\n",
    "* key_family: Specifies the type of key being derived, common key families include:\n",
    "    * 0: Multi-sig keys.\n",
    "    * 1: Revocation basepoints.\n",
    "    * 2: HTLC basepoints.\n",
    "    * 3: Payment basepoints.\n",
    "    * 4: Delayed payment basepoints.\n",
    "* key_index: Specifies the index of the specific key within the family."
   ]
  },
  {
   "cell_type": "code",
   "execution_count": 1,
   "id": "03cff56c-add1-4997-b75d-8e61a8c714fc",
   "metadata": {},
   "outputs": [
    {
     "name": "stdout",
     "output_type": "stream",
     "text": [
      "Alice Funding Private Key: 23c334147ed9438c41de42a848186cf66a1fc7ac9b9188b7bb048784d3d8957f\n",
      "Alice Funding Public Key: 028e3fe2292fbcf3d5dbe3ae8d6589022e5188e8e3045c2c817a8ef9f643246b0d\n",
      "Alice Change Private Key: 016ed3c51e103c3af4c7881c39e193058f98604e61838dc328747ce62f93476c\n",
      "Alice Change Public Key: 035cf94ac57d02edc7ea0cb466ad3e91d758a6a8926ea759d23e180cdc54a2edf5\n",
      "Bob Private Key: 58a2d30fbb47919a9e06a67d296c5623fdb81d8b6602fa17b32d2737f1a6a379\n",
      "Bob Public Key: 038fdb901132874d1c7722c0c2074010216655af5d6019fab965d5ffba8724a931\n"
     ]
    }
   ],
   "source": [
    "from bip_utils import Bip32Slip10Secp256k1, Bip39SeedGenerator\n",
    "\n",
    "# Alice mnemonic and passphrase\n",
    "alice_mnemonic = \"repeat nut garlic dirt decorate march chase force clean mask sunny unusual\"\n",
    "alice_passphrase = \"\"\n",
    "\n",
    "# Generate the seed from the mnemonic\n",
    "alice_seed = Bip39SeedGenerator(alice_mnemonic).Generate(alice_passphrase)\n",
    "\n",
    "# Initialize BIP32 master key\n",
    "alice_bip32_ctx = Bip32Slip10Secp256k1.FromSeed(alice_seed)\n",
    "\n",
    "# Derive child keys and basepoints\n",
    "# m/1017'/coinType'/keyFamily'/0/index\n",
    "# first derive alice funding context\n",
    "alice_funding_ctx = alice_bip32_ctx.DerivePath(\"m/1017'/1'/0'/0/0\")\n",
    "alice_funding_privkey = alice_funding_ctx.PrivateKey().Raw().ToHex()\n",
    "alice_funding_pubkey = alice_funding_ctx.PublicKey().RawCompressed().ToHex()\n",
    "print(\"Alice Funding Private Key:\", alice_funding_privkey)\n",
    "print(\"Alice Funding Public Key:\", alice_funding_pubkey)\n",
    "alice_change_ctx = alice_bip32_ctx.DerivePath(\"m/1017'/1'/0'/0/1\")\n",
    "alice_change_privkey = alice_change_ctx.PrivateKey().Raw().ToHex()\n",
    "alice_change_pubkey = alice_change_ctx.PublicKey().RawCompressed().ToHex()\n",
    "print(\"Alice Change Private Key:\", alice_change_privkey)\n",
    "print(\"Alice Change Public Key:\", alice_change_pubkey)\n",
    "\n",
    "# Bob mnemonic and passphrase\n",
    "bob_mnemonic = \"sweet elephant priority bounce alien soon gaze inherit morning title better meadow\"\n",
    "bob_passphrase = \"\"\n",
    "\n",
    "# Generate the seed from the mnemonic\n",
    "bob_seed = Bip39SeedGenerator(bob_mnemonic).Generate(bob_passphrase)\n",
    "\n",
    "# Initialize BIP32 master key\n",
    "bob_bip32_ctx = Bip32Slip10Secp256k1.FromSeed(bob_seed)\n",
    "\n",
    "# Derive child keys and basepoints\n",
    "# m/1017'/coinType'/keyFamily'/0/index\n",
    "# first derive alice funding context\n",
    "bob_funding_ctx = bob_bip32_ctx.DerivePath(\"m/1017'/1'/0'/0/0\")\n",
    "bob_funding_privkey = bob_funding_ctx.PrivateKey().Raw().ToHex()\n",
    "bob_funding_pubkey = bob_funding_ctx.PublicKey().RawCompressed().ToHex()\n",
    "print(\"Bob Private Key:\", bob_funding_privkey)\n",
    "print(\"Bob Public Key:\", bob_funding_pubkey)\n",
    "\n"
   ]
  },
  {
   "cell_type": "code",
   "execution_count": null,
   "id": "b20bd7f0-8af7-4375-8d99-76b420707410",
   "metadata": {},
   "outputs": [],
   "source": []
  },
  {
   "cell_type": "code",
   "execution_count": null,
   "id": "ad023921-4cb3-4eeb-8e8f-1186032f0bd0",
   "metadata": {},
   "outputs": [],
   "source": []
  }
 ],
 "metadata": {
  "kernelspec": {
   "display_name": "Python 3 (ipykernel)",
   "language": "python",
   "name": "python3"
  },
  "language_info": {
   "codemirror_mode": {
    "name": "ipython",
    "version": 3
   },
   "file_extension": ".py",
   "mimetype": "text/x-python",
   "name": "python",
   "nbconvert_exporter": "python",
   "pygments_lexer": "ipython3",
   "version": "3.12.3"
  }
 },
 "nbformat": 4,
 "nbformat_minor": 5
}
