{
 "cells": [
  {
   "cell_type": "markdown",
   "id": "89ea26c8-ee2f-489f-ac16-45109bae477c",
   "metadata": {},
   "source": [
    "# Creating the First Commitment Transactions\n",
    "\n",
    "In this section we'll create the First Commitment transaction of a Lightning Channel from scratch in python. We'll go through each part of the transaction, how it's constructed, signed, and the message the peers exchange to send and get the needed information from each other to make it happen. We'll test it using bitcoin core in regtest mode.\n",
    "\n",
    "## Prerequisite knowledge\n",
    "- For all notebooks:\n",
    "    - A high level understanding of the bitcoin. e.g. [Mastering Bitcoin](https://github.com/bitcoinbook/bitcoinbook) by Andreas Antonopoulos UTXO model, in particular [Chapter 6](https://github.com/bitcoinbook/bitcoinbook/blob/develop/ch06.asciidoc).\n",
    "    - A high level understanding of the Lightning Network. e.g. [Mastering Lightning](https://github.com/bitcoinbook/bitcoinbook) TODO Get the chapter to point it here\n",
    "    - A conceptual understanding of [hash functions](https://www.thesslstore.com/blog/what-is-a-hash-function-in-cryptography-a-beginners-guide).\n",
    "    - [Hexadecimal notation](https://inst.eecs.berkeley.edu/~cs61bl/r//cur/bits/decimal-binary-hex.html?topic=lab28.topic&step=2&course=) and [endianness](https://www.freecodecamp.org/news/what-is-endianness-big-endian-vs-little-endian/).\n",
    "\n",
    "- Specific to this notebook:\n",
    "    - SHA256, HASH256, HASH160 - '[Hash Functions chapter](https://github.com/MPins/lightning-tx-tutorial/blob/main/appendix/hash-functions.ipynb)'\n",
    "    - Bech32 addresses - '[Addresses chapter](https://github.com/MPins/lightning-tx-tutorial/blob/main/appendix/Addresses.ipynb)'\n",
    "    - Bitcoin Script basics - '[Bitcoin Script chapter](https://github.com/MPins/lightning-tx-tutorial/blob/main/appendix/Bitcoin%20Script.ipynb)'\n",
    "    - Lightning Network BOLT #2: '[Peer Protocol for Channel Management](https://github.com/lightning/bolts/blob/master/02-peer-protocol.md#channel-establishment-v1)'"
   ]
  },
  {
   "cell_type": "markdown",
   "id": "651d0b70-8dcf-420e-9977-89be2a362590",
   "metadata": {},
   "source": [
    "## Commitment Transactions\n",
    "\n",
    "The Basis of Lightning Technology ([BOLT](https://github.com/lightning/bolts/blob/master/03-transactions.md))  details the exact format of on-chain transactions, which both sides need to agree on to ensure signatures are valid. This consists of the funding transaction output script, the commitment transactions, and the HTLC transactions.\n",
    "\n",
    "This notebook will focus on commitment transactions.\n",
    "\n",
    "    +-----------+                              +---------+\n",
    "    |           |--(1)---  open_channel  ----->|         |\n",
    "    |           |<-(2)--  accept_channel  -----|         |\n",
    "    |           |                              |         |\n",
    "    |   Alice   |--(3)--  funding_created  --->|   Bob   |\n",
    "    |           |<-(4)--  funding_signed  -----|         |\n",
    "    |           |                              |         |\n",
    "    |           |--(5)---  channel_ready  ---->|         |\n",
    "    |           |<-(6)---  channel_ready  -----|         |\n",
    "    +-----------+                              +---------+\n",
    "\n",
    "    - where node Alice is 'funder' and node Bob is 'fundee'"
   ]
  },
  {
   "cell_type": "markdown",
   "id": "c00c2b0e-2fc4-49e6-aa8f-95ee6a95e49c",
   "metadata": {},
   "source": [
    "Alice send the `open_channel` message to Bob. This message define many channel operational criterias, here we are going to focus on the information that are used in the commitment transaction:\n",
    "* dust_limit_satoshis\n",
    "* feerate_per_kw\n",
    "* to_self_delay\n",
    "* funding_pubkey\n",
    "* revocation_basepoint\n",
    "* payment_basepoint\n",
    "* delayed_payment_basepoint\n",
    "* htlc_basepoint\n",
    "* first_per_commitment_point"
   ]
  },
  {
   "cell_type": "markdown",
   "id": "c60104b2-4058-4a72-9b6f-4ae5c13942ad",
   "metadata": {},
   "source": [
    "If Bob does not agree with the criterias sent into the `open_channel` message he send a [`error_message`](https://github.com/lightning/bolts/blob/master/01-messaging.md#the-error-and-warning-messages) back to Alice, otherwise he sends the [`accept_channel`](https://github.com/lightning/bolts/blob/master/02-peer-protocol.md#the-accept_channel-message) message, containing some operational criterias from your side, here we are going to focus on the information that are used in the commitment transaction:\n",
    "* dust_limit_satoshis\n",
    "* to_self_delay\n",
    "* funding_pubkey\n",
    "* revocation_basepoint\n",
    "* payment_basepoint\n",
    "* delayed_payment_basepoint\n",
    "* htlc_basepoint\n",
    "* first_per_commitment_point"
   ]
  },
  {
   "cell_type": "code",
   "execution_count": 1,
   "id": "3d2a8a29-35ce-4dca-baa1-f7db714c820c",
   "metadata": {},
   "outputs": [
    {
     "name": "stdout",
     "output_type": "stream",
     "text": [
      "Stored 'alice_funding_address' (str)\n",
      "Alice's pubkey: 037685b7e0a23a1b58540e6af6f60550e2ed6705e858817d92df23170a65e4a4c1\n",
      "Alice's funding p2wpkh address: bcrt1qk7k7fzan0wfn6tf3y4vylujlvcrs2s5v4d2ngm\n",
      "Alice's change p2wpkh address: bcrt1qhm34rrrhcntahx9cg8dzsgxeq9xymnkh8rgcrk\n",
      "2024-12-29T23:23:22.574000Z TestFramework (INFO): PRNG seed is: 2665835548890888750\n",
      "2024-12-29T23:23:22.575000Z TestFramework (INFO): Initializing test directory /tmp/bitcoin_func_test_w3tbfybh\n",
      "txid: ebdb2e3088bdf6d741cb543019cd88122aab038c4d3cb61119541e0a1be247c4, 0\n",
      "Bob's pubkey: 03e81dfa1a26011178a4c5e8a704e5909015a51558deb011c43d98fd94c63b1223\n",
      "Alice pubkey is lexicographically lesser than Bob pubkey:\n",
      "037685b7e0a23a1b58540e6af6f60550e2ed6705e858817d92df23170a65e4a4c1 < 03e81dfa1a26011178a4c5e8a704e5909015a51558deb011c43d98fd94c63b1223\n",
      "Redeem Script:\n",
      "5221037685b7e0a23a1b58540e6af6f60550e2ed6705e858817d92df23170a65e4a4c12103e81dfa1a26011178a4c5e8a704e5909015a51558deb011c43d98fd94c63b122352ae\n",
      "bcrt1qg7zgfcvz9eneugzh9df8gc2wek3rfyf3t3vjuw06q8d7jtz7h5eqdjlj5l\n",
      "unsigned_tx:  0200000001c447e21b0a1e541911b63c4d8c03ab2a1288cd193054cb41d7f6bd88302edbeb0000000000ffffffff02c0e1e40000000000160014bee3518c77c4d7db98b841da2820d9014c4dced7404b4c0000000000220020478484e1822e679e20572b5274614ecda23491315c592e39fa01dbe92c5ebd3200000000\n",
      "{\n",
      "  \"txid\": \"dff18cf7a9130e50fc50d25264fa8a9c96bee37f75edfd5874be6efa9456e0dc\",\n",
      "  \"hash\": \"dff18cf7a9130e50fc50d25264fa8a9c96bee37f75edfd5874be6efa9456e0dc\",\n",
      "  \"version\": 2,\n",
      "  \"size\": 125,\n",
      "  \"vsize\": 125,\n",
      "  \"weight\": 500,\n",
      "  \"locktime\": 0,\n",
      "  \"vin\": [\n",
      "    {\n",
      "      \"txid\": \"ebdb2e3088bdf6d741cb543019cd88122aab038c4d3cb61119541e0a1be247c4\",\n",
      "      \"vout\": 0,\n",
      "      \"scriptSig\": {\n",
      "        \"asm\": \"\",\n",
      "        \"hex\": \"\"\n",
      "      },\n",
      "      \"sequence\": 4294967295\n",
      "    }\n",
      "  ],\n",
      "  \"vout\": [\n",
      "    {\n",
      "      \"value\": \"0.15000000\",\n",
      "      \"n\": 0,\n",
      "      \"scriptPubKey\": {\n",
      "        \"asm\": \"0 bee3518c77c4d7db98b841da2820d9014c4dced7\",\n",
      "        \"desc\": \"addr(bcrt1qhm34rrrhcntahx9cg8dzsgxeq9xymnkh8rgcrk)#va63jkv7\",\n",
      "        \"hex\": \"0014bee3518c77c4d7db98b841da2820d9014c4dced7\",\n",
      "        \"address\": \"bcrt1qhm34rrrhcntahx9cg8dzsgxeq9xymnkh8rgcrk\",\n",
      "        \"type\": \"witness_v0_keyhash\"\n",
      "      }\n",
      "    },\n",
      "    {\n",
      "      \"value\": \"0.05000000\",\n",
      "      \"n\": 1,\n",
      "      \"scriptPubKey\": {\n",
      "        \"asm\": \"0 478484e1822e679e20572b5274614ecda23491315c592e39fa01dbe92c5ebd32\",\n",
      "        \"desc\": \"addr(bcrt1qg7zgfcvz9eneugzh9df8gc2wek3rfyf3t3vjuw06q8d7jtz7h5eqdjlj5l)#ry0jtllc\",\n",
      "        \"hex\": \"0020478484e1822e679e20572b5274614ecda23491315c592e39fa01dbe92c5ebd32\",\n",
      "        \"address\": \"bcrt1qg7zgfcvz9eneugzh9df8gc2wek3rfyf3t3vjuw06q8d7jtz7h5eqdjlj5l\",\n",
      "        \"type\": \"witness_v0_scripthash\"\n",
      "      }\n",
      "    }\n",
      "  ]\n",
      "}\n",
      "02000000674edc00cfa0e05c96707ef2a858b1995a61b8ae6aada54d6b8bbf9c19fa391d3bb13029ce7b1f559ef5e747fcac439f1455a2ec7c5f09b72290795e70665044c447e21b0a1e541911b63c4d8c03ab2a1288cd193054cb41d7f6bd88302edbeb000000001976a914b7ade48bb37b933d2d3125584ff25f660705428c88aca0b3320100000000ffffffff51866cfa9f65fdad1ed67d665903fa1d186e8408b49b05f10d00723c9904856e0000000001000000\n",
      "signed transaction:  02000000000101c447e21b0a1e541911b63c4d8c03ab2a1288cd193054cb41d7f6bd88302edbeb0000000000ffffffff02c0e1e40000000000160014bee3518c77c4d7db98b841da2820d9014c4dced7404b4c0000000000220020478484e1822e679e20572b5274614ecda23491315c592e39fa01dbe92c5ebd32024830450221009a5b5ac5faf60f7042fd66126a233333a09414e94772fd2ceda072d288bd53bb022010ea42af23378ba08553acf86413597ae461ab92d973245a884c677836ccae110121037685b7e0a23a1b58540e6af6f60550e2ed6705e858817d92df23170a65e4a4c100000000\n",
      "[{'txid': 'dff18cf7a9130e50fc50d25264fa8a9c96bee37f75edfd5874be6efa9456e0dc', 'wtxid': '3acb9b7ee2deae2be728e5e14fd0947acc54b3a1d1f9a04532c9e11415f02e06', 'allowed': True, 'vsize': 153, 'fees': {'base': Decimal('0.00100000'), 'effective-feerate': Decimal('0.00653594'), 'effective-includes': ['3acb9b7ee2deae2be728e5e14fd0947acc54b3a1d1f9a04532c9e11415f02e06']}}]\n"
     ]
    }
   ],
   "source": [
    "# In your notebook\n",
    "%run \"/home/pins-dev/Projects/lightning-tx-tutorial/Chapter 1 - Funding Transactions/Funding-Transaction.ipynb\""
   ]
  },
  {
   "cell_type": "code",
   "execution_count": 2,
   "id": "6d07122f-a1b2-465f-becc-1a703a1d2e6d",
   "metadata": {},
   "outputs": [
    {
     "name": "stdout",
     "output_type": "stream",
     "text": [
      "[{'txid': 'dff18cf7a9130e50fc50d25264fa8a9c96bee37f75edfd5874be6efa9456e0dc', 'wtxid': '3acb9b7ee2deae2be728e5e14fd0947acc54b3a1d1f9a04532c9e11415f02e06', 'allowed': True, 'vsize': 153, 'fees': {'base': Decimal('0.00100000'), 'effective-feerate': Decimal('0.00653594'), 'effective-includes': ['3acb9b7ee2deae2be728e5e14fd0947acc54b3a1d1f9a04532c9e11415f02e06']}}]\n"
     ]
    }
   ],
   "source": [
    "result = node.testmempoolaccept(rawtxs=[signed_tx.hex()])\n",
    "print(result)"
   ]
  },
  {
   "cell_type": "code",
   "execution_count": null,
   "id": "2100cfc5-58bc-4926-ab94-2f247e0989a6",
   "metadata": {},
   "outputs": [],
   "source": []
  }
 ],
 "metadata": {
  "kernelspec": {
   "display_name": "Python 3 (ipykernel)",
   "language": "python",
   "name": "python3"
  },
  "language_info": {
   "codemirror_mode": {
    "name": "ipython",
    "version": 3
   },
   "file_extension": ".py",
   "mimetype": "text/x-python",
   "name": "python",
   "nbconvert_exporter": "python",
   "pygments_lexer": "ipython3",
   "version": "3.12.3"
  }
 },
 "nbformat": 4,
 "nbformat_minor": 5
}
