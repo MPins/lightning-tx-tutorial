{
 "cells": [
  {
   "cell_type": "code",
   "execution_count": 5,
   "id": "3be47156-5b8d-4f69-9525-be764c06cd2d",
   "metadata": {},
   "outputs": [
    {
     "name": "stdout",
     "output_type": "stream",
     "text": [
      "0200000000010126573de15fd083d64eedbbabb1a9c15b518e931017ef0c549702f59f4e9e23bb0000000000ffffffff02c0e1e40000000000160014bee3518c77c4d7db98b841da2820d9014c4dced7404b4c0000000000220020478484e1822e679e20572b5274614ecda23491315c592e39fa01dbe92c5ebd320247304402202326352f024e8437871c0cdac708373dfdc25e0e6a379a2f80ba82557de7f5840220109e5f69ffeba8c0423b11f3fcae17f206d8c9ece7a08a6fead80f93529689350121037685b7e0a23a1b58540e6af6f60550e2ed6705e858817d92df23170a65e4a4c100000000\n"
     ]
    }
   ],
   "source": [
    "# pip install pickleshare\n",
    "%store -r signed_tx\n",
    "print(signed_tx.hex())"
   ]
  },
  {
   "cell_type": "code",
   "execution_count": null,
   "id": "6d07122f-a1b2-465f-becc-1a703a1d2e6d",
   "metadata": {},
   "outputs": [],
   "source": []
  }
 ],
 "metadata": {
  "kernelspec": {
   "display_name": "Python 3 (ipykernel)",
   "language": "python",
   "name": "python3"
  },
  "language_info": {
   "codemirror_mode": {
    "name": "ipython",
    "version": 3
   },
   "file_extension": ".py",
   "mimetype": "text/x-python",
   "name": "python",
   "nbconvert_exporter": "python",
   "pygments_lexer": "ipython3",
   "version": "3.12.3"
  }
 },
 "nbformat": 4,
 "nbformat_minor": 5
}
