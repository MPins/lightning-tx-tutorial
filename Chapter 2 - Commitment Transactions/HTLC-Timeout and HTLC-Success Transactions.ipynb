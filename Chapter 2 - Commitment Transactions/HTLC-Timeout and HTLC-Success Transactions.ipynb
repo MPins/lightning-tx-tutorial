{
 "cells": [
  {
   "cell_type": "markdown",
   "id": "77c93df3-2b04-45c9-818a-b633f04f102d",
   "metadata": {},
   "source": [
    "*** UNDER Construction ***\n",
    "\n",
    "\n",
    "# HTLC-Timeout and HTLC-Success Transactions\n",
    "## Prerequisite knowledge\n",
    "### For all notebooks\n",
    "- A high level understanding of the bitcoin e.g. [Mastering Bitcoin](https://github.com/bitcoinbook/bitcoinbook), in particular [Chapter 6](https://github.com/bitcoinbook/bitcoinbook/blob/develop/ch06.asciidoc).\n",
    "- A conceptual understanding of [hash functions](https://www.thesslstore.com/blog/what-is-a-hash-function-in-cryptography-a-beginners-guide).\n",
    "- [Hexadecimal notation](https://inst.eecs.berkeley.edu/~cs61bl/r//cur/bits/decimal-binary-hex.html?topic=lab28.topic&step=2&course=) and [endianness](https://www.freecodecamp.org/news/what-is-endianness-big-endian-vs-little-endian/).\n",
    "- A high level understanding of the lightning e.g. [Mastering Lightning Network](https://github.com/lnbook/lnbook), in particular [Chapter7](https://github.com/lnbook/lnbook/blob/develop/07_payment_channels.asciidoc), [Chapter 8](https://github.com/lnbook/lnbook/blob/develop/08_routing_htlcs.asciidoc) and [Chapter 9](https://github.com/lnbook/lnbook/blob/develop/09_channel_operation.asciidoc).\n",
    "\n",
    "### Specific to this notebook\n",
    "- SHA256, HASH256, HASH160 - '[Hash Functions chapter](https://github.com/MPins/lightning-tx-tutorial/blob/main/appendix/hash-functions.ipynb)'\n",
    "- Bech32 addresses - '[Addresses chapter](https://github.com/MPins/lightning-tx-tutorial/blob/main/appendix/Addresses.ipynb)'\n",
    "- Bitcoin Script basics - '[Bitcoin Script chapter](https://github.com/MPins/lightning-tx-tutorial/blob/main/appendix/Bitcoin%20Script.ipynb)'\n",
    "- Lightning Network BOLT #2: '[Peer Protocol for Channel Management](https://github.com/lightning/bolts/blob/master/02-peer-protocol.md#channel-establishment-v1)'\n",
    "- Lightning Network BOLT #3: '[Commitment Transactions](https://github.com/lightning/bolts/blob/master/03-transactions.md#commitment-transaction)'\n",
    "- Finite Fields, Elliptic Curves and Serialization e.g. [Programming Bitcoin](https://github.com/jimmysong/programmingbitcoin), in particular [Chapter 1](https://github.com/jimmysong/programmingbitcoin/blob/master/ch01.asciidoc), [Chapter2](https://github.com/jimmysong/programmingbitcoin/blob/master/ch02.asciidoc), [Chapter 3](https://github.com/jimmysong/programmingbitcoin/blob/master/ch03.asciidoc) and [Chapter 4](https://github.com/jimmysong/programmingbitcoin/blob/master/ch04.asciidoc).\n",
    "\n",
    "## HTLC-Timeout and HTLC-Success Transactions\n",
    "\n",
    "The HTLC-Timeout and HTLC-Success Transactions are almost identical, except the HTLC-timeout transaction is timelocked. Both HTLC-timeout/HTLC-success transactions can be spent by a valid penalty transaction.\n",
    "\n",
    "* version: 2\n",
    "* locktime: 0 for HTLC-success, cltv_expiry for HTLC-timeout\n",
    "* txin count: 1\n",
    "    * txin[0] outpoint: txid of the commitment transaction and output_index of the matching HTLC output for the HTLC transaction\n",
    "    * txin[0] sequence: 0 (set to 1 for option_anchors)\n",
    "    * txin[0] script bytes: 0\n",
    "    * txin[0] witness stack: 0 <remotehtlcsig> <localhtlcsig>  <payment_preimage> for HTLC-success, 0 <remotehtlcsig> <localhtlcsig> <> for HTLC-timeout\n",
    "\n",
    "* txout count: 1\n",
    "    * txout[0] amount: the HTLC amount_msat divided by 1000 (rounding down) minus fees in satoshis (see Fee Calculation)\n",
    "    * txout[0] script: version-0 P2WSH with witness script as shown below\n",
    "\n",
    "if option_anchors applies to this commitment transaction, SIGHASH_SINGLE|SIGHASH_ANYONECANPAY is used as described in [BOLT #5](https://github.com/lightning/bolts/blob/master/05-onchain.md#generation-of-htlc-transactions)\n"
   ]
  },
  {
   "cell_type": "code",
   "execution_count": null,
   "id": "f4d6d2d3-3165-41c6-a01e-818bb6f94831",
   "metadata": {},
   "outputs": [],
   "source": []
  }
 ],
 "metadata": {
  "kernelspec": {
   "display_name": "Python 3 (ipykernel)",
   "language": "python",
   "name": "python3"
  },
  "language_info": {
   "codemirror_mode": {
    "name": "ipython",
    "version": 3
   },
   "file_extension": ".py",
   "mimetype": "text/x-python",
   "name": "python",
   "nbconvert_exporter": "python",
   "pygments_lexer": "ipython3",
   "version": "3.12.3"
  }
 },
 "nbformat": 4,
 "nbformat_minor": 5
}
