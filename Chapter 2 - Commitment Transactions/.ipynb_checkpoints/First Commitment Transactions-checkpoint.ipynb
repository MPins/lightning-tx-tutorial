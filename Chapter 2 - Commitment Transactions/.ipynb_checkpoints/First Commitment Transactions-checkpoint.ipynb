{
 "cells": [
  {
   "cell_type": "markdown",
   "id": "89ea26c8-ee2f-489f-ac16-45109bae477c",
   "metadata": {},
   "source": [
    "# Creating the First Commitment Transactions\n",
    "\n",
    "In this section we'll create the First Commitment transaction of a Lightning Channel from scratch in python. We'll go through each part of the transaction, how it's constructed, signed, and the message the peers exchange to send and get the needed information from each other to make it happen. We'll test it using bitcoin core in regtest mode.\n",
    "\n",
    "## Prerequisite knowledge\n",
    "- For all notebooks:\n",
    "    - A high level understanding of the bitcoin. e.g. [Mastering Bitcoin](https://github.com/bitcoinbook/bitcoinbook) by Andreas Antonopoulos UTXO model, in particular [Chapter 6](https://github.com/bitcoinbook/bitcoinbook/blob/develop/ch06.asciidoc).\n",
    "    - A high level understanding of the Lightning Network. e.g. [Mastering Lightning](https://github.com/bitcoinbook/bitcoinbook) TODO Get the chapter to point it here\n",
    "    - A conceptual understanding of [hash functions](https://www.thesslstore.com/blog/what-is-a-hash-function-in-cryptography-a-beginners-guide).\n",
    "    - [Hexadecimal notation](https://inst.eecs.berkeley.edu/~cs61bl/r//cur/bits/decimal-binary-hex.html?topic=lab28.topic&step=2&course=) and [endianness](https://www.freecodecamp.org/news/what-is-endianness-big-endian-vs-little-endian/).\n",
    "\n",
    "- Specific to this notebook:\n",
    "    - SHA256, HASH256, HASH160 - '[Hash Functions chapter](https://github.com/MPins/lightning-tx-tutorial/blob/main/appendix/hash-functions.ipynb)'\n",
    "    - Bech32 addresses - '[Addresses chapter](https://github.com/MPins/lightning-tx-tutorial/blob/main/appendix/Addresses.ipynb)'\n",
    "    - Bitcoin Script basics - '[Bitcoin Script chapter](https://github.com/MPins/lightning-tx-tutorial/blob/main/appendix/Bitcoin%20Script.ipynb)'\n",
    "    - Lightning Network BOLT #2: '[Peer Protocol for Channel Management](https://github.com/lightning/bolts/blob/master/02-peer-protocol.md#channel-establishment-v1)'"
   ]
  },
  {
   "cell_type": "markdown",
   "id": "651d0b70-8dcf-420e-9977-89be2a362590",
   "metadata": {},
   "source": [
    "## Commitment Transactions\n",
    "\n",
    "The Basis of Lightning Technology ([BOLT](https://github.com/lightning/bolts/blob/master/03-transactions.md))  details the exact format of on-chain transactions, which both sides need to agree on to ensure signatures are valid. This consists of the funding transaction output script, the commitment transactions, and the HTLC transactions.\n",
    "\n",
    "This notebook will focus on commitment transactions.\n",
    "\n",
    "    +-----------+                              +---------+\n",
    "    |           |--(1)---  open_channel  ----->|         |\n",
    "    |           |<-(2)--  accept_channel  -----|         |\n",
    "    |           |                              |         |\n",
    "    |   Alice   |--(3)--  funding_created  --->|   Bob   |\n",
    "    |           |<-(4)--  funding_signed  -----|         |\n",
    "    |           |                              |         |\n",
    "    |           |--(5)---  channel_ready  ---->|         |\n",
    "    |           |<-(6)---  channel_ready  -----|         |\n",
    "    +-----------+                              +---------+\n",
    "\n",
    "    - where node Alice is 'funder' and node Bob is 'fundee'"
   ]
  },
  {
   "cell_type": "markdown",
   "id": "c00c2b0e-2fc4-49e6-aa8f-95ee6a95e49c",
   "metadata": {},
   "source": [
    "Alice send the `open_channel` message to Bob. This message define many channel operational criterias, here we are going to focus on the information that are used in the commitment transaction:\n",
    "* dust_limit_satoshis\n",
    "* feerate_per_kw\n",
    "* to_self_delay\n",
    "* funding_pubkey\n",
    "* revocation_basepoint\n",
    "* payment_basepoint\n",
    "* delayed_payment_basepoint\n",
    "* htlc_basepoint\n",
    "* first_per_commitment_point"
   ]
  },
  {
   "cell_type": "code",
   "execution_count": 5,
   "id": "3be47156-5b8d-4f69-9525-be764c06cd2d",
   "metadata": {},
   "outputs": [
    {
     "name": "stdout",
     "output_type": "stream",
     "text": [
      "0200000000010126573de15fd083d64eedbbabb1a9c15b518e931017ef0c549702f59f4e9e23bb0000000000ffffffff02c0e1e40000000000160014bee3518c77c4d7db98b841da2820d9014c4dced7404b4c0000000000220020478484e1822e679e20572b5274614ecda23491315c592e39fa01dbe92c5ebd320247304402202326352f024e8437871c0cdac708373dfdc25e0e6a379a2f80ba82557de7f5840220109e5f69ffeba8c0423b11f3fcae17f206d8c9ece7a08a6fead80f93529689350121037685b7e0a23a1b58540e6af6f60550e2ed6705e858817d92df23170a65e4a4c100000000\n"
     ]
    }
   ],
   "source": [
    "# pip install pickleshare\n",
    "%store -r signed_tx\n",
    "print(signed_tx.hex())"
   ]
  },
  {
   "cell_type": "code",
   "execution_count": null,
   "id": "6d07122f-a1b2-465f-becc-1a703a1d2e6d",
   "metadata": {},
   "outputs": [],
   "source": []
  }
 ],
 "metadata": {
  "kernelspec": {
   "display_name": "Python 3 (ipykernel)",
   "language": "python",
   "name": "python3"
  },
  "language_info": {
   "codemirror_mode": {
    "name": "ipython",
    "version": 3
   },
   "file_extension": ".py",
   "mimetype": "text/x-python",
   "name": "python",
   "nbconvert_exporter": "python",
   "pygments_lexer": "ipython3",
   "version": "3.12.3"
  }
 },
 "nbformat": 4,
 "nbformat_minor": 5
}
