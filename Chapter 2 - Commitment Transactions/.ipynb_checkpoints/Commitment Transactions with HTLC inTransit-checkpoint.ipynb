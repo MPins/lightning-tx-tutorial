{
 "cells": [
  {
   "attachments": {},
   "cell_type": "markdown",
   "id": "f26a2a97-51aa-44d2-99d9-78b029685ab3",
   "metadata": {},
   "source": [
    "# Creating Commitment Transactions with HTLC in Transit\n",
    "\n",
    "In this section, we'll create the Commitment Transactions with HTLC in transit from scratch using Python. We'll break down each part of the transaction, explain how it's constructed and signed, and detail the messages exchanged between peers to share the necessary information. Finally, we'll test everything using Bitcoin Core in regtest mode.\n",
    "\n",
    "## Prerequisite knowledge\n",
    "### For all notebooks\n",
    "- A high level understanding of the bitcoin e.g. [Mastering Bitcoin](https://github.com/bitcoinbook/bitcoinbook), in particular [Chapter 6](https://github.com/bitcoinbook/bitcoinbook/blob/develop/ch06.asciidoc).\n",
    "- A conceptual understanding of [hash functions](https://www.thesslstore.com/blog/what-is-a-hash-function-in-cryptography-a-beginners-guide).\n",
    "- [Hexadecimal notation](https://inst.eecs.berkeley.edu/~cs61bl/r//cur/bits/decimal-binary-hex.html?topic=lab28.topic&step=2&course=) and [endianness](https://www.freecodecamp.org/news/what-is-endianness-big-endian-vs-little-endian/).\n",
    "- A high level understanding of the lightning e.g. [Mastering Lightning Network](https://github.com/lnbook/lnbook), in particular [Chapter7](https://github.com/lnbook/lnbook/blob/develop/07_payment_channels.asciidoc), [Chapter 8](https://github.com/lnbook/lnbook/blob/develop/08_routing_htlcs.asciidoc) and [Chapter 9](https://github.com/lnbook/lnbook/blob/develop/09_channel_operation.asciidoc).\n",
    "\n",
    "### Specific to this notebook\n",
    "- SHA256, HASH256, HASH160 - '[Hash Functions chapter](https://github.com/MPins/lightning-tx-tutorial/blob/main/appendix/hash-functions.ipynb)'\n",
    "- Bech32 addresses - '[Addresses chapter](https://github.com/MPins/lightning-tx-tutorial/blob/main/appendix/Addresses.ipynb)'\n",
    "- Bitcoin Script basics - '[Bitcoin Script chapter](https://github.com/MPins/lightning-tx-tutorial/blob/main/appendix/Bitcoin%20Script.ipynb)'\n",
    "- Lightning Network BOLT #2: '[Peer Protocol for Channel Management](https://github.com/lightning/bolts/blob/master/02-peer-protocol.md#channel-establishment-v1)'\n",
    "- Lightning Network BOLT #3: '[Commitment Transactions](https://github.com/lightning/bolts/blob/master/03-transactions.md#commitment-transaction)'\n",
    "- Finite Fields, Elliptic Curves and Serialization e.g. [Programming Bitcoin](https://github.com/jimmysong/programmingbitcoin), in particular [Chapter 1](https://github.com/jimmysong/programmingbitcoin/blob/master/ch01.asciidoc), [Chapter2](https://github.com/jimmysong/programmingbitcoin/blob/master/ch02.asciidoc), [Chapter 3](https://github.com/jimmysong/programmingbitcoin/blob/master/ch03.asciidoc) and [Chapter 4](https://github.com/jimmysong/programmingbitcoin/blob/master/ch04.asciidoc).\n",
    "\n",
    "## HTLC (Hashed Time Locked Contracts)\n",
    "\n",
    "Once the channel was stablished, the channel can be used to make payments via HTLCs (Hashed Time Locked Contracts).\n",
    "\n",
    "Changes are sent in batches: one or more update_ messages are sent before a commitment_signed message, as in the following diagram:\n",
    "\n",
    "    +-----------+                               +-----------+\n",
    "    |           |--(1)---- update_add_htlc ---->|           |\n",
    "    |           |--(2)---- update_add_htlc ---->|           |\n",
    "    |           |<-(3)---- update_add_htlc -----|           |\n",
    "    |           |                               |           |\n",
    "    |           |--(4)--- commitment_signed --->|           |\n",
    "    |   Alice   |<-(5)---- revoke_and_ack ------|    Bob    |\n",
    "    |           |                               |           |\n",
    "    |           |<-(6)--- commitment_signed ----|           |\n",
    "    |           |--(7)---- revoke_and_ack ----->|           |\n",
    "    |           |                               |           |\n",
    "    |           |--(8)--- commitment_signed --->|           |\n",
    "    |           |<-(9)---- revoke_and_ack ------|           |\n",
    "    +-----------+                               +-----------+\n",
    "\n",
    "\n",
    "\n",
    "\n",
    "\n",
    "## Setup\n",
    "### Requirements\n",
    "\n",
    "For this exercise we'll run the previous notebook to create the channel funding transaction beetween Alice and Bob.\n",
    "\n",
    "**You'll need to edit these next line for your local setup.**"
   ]
  },
  {
   "cell_type": "code",
   "execution_count": null,
   "id": "e340e19a-01ae-488c-96a2-8c69962eb838",
   "metadata": {},
   "outputs": [],
   "source": []
  }
 ],
 "metadata": {
  "kernelspec": {
   "display_name": "Python 3 (ipykernel)",
   "language": "python",
   "name": "python3"
  },
  "language_info": {
   "codemirror_mode": {
    "name": "ipython",
    "version": 3
   },
   "file_extension": ".py",
   "mimetype": "text/x-python",
   "name": "python",
   "nbconvert_exporter": "python",
   "pygments_lexer": "ipython3",
   "version": "3.12.3"
  }
 },
 "nbformat": 4,
 "nbformat_minor": 5
}
