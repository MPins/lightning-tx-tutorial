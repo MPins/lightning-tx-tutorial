{
 "cells": [
  {
   "cell_type": "markdown",
   "id": "77c93df3-2b04-45c9-818a-b633f04f102d",
   "metadata": {},
   "source": [
    "# UNDER CONSTRUCTION\n",
    "# HTLC-Timeout and HTLC-Success Transactions\n",
    "\n",
    "The HTLC-Timeout and HTLC-Success Transactions are almost identical, except the HTLC-timeout transaction is timelocked. Both HTLC-timeout/HTLC-success transactions can be spent by a valid penalty transaction.\n",
    "\n"
   ]
  },
  {
   "cell_type": "code",
   "execution_count": null,
   "id": "f4d6d2d3-3165-41c6-a01e-818bb6f94831",
   "metadata": {},
   "outputs": [],
   "source": []
  }
 ],
 "metadata": {
  "kernelspec": {
   "display_name": "Python 3 (ipykernel)",
   "language": "python",
   "name": "python3"
  },
  "language_info": {
   "codemirror_mode": {
    "name": "ipython",
    "version": 3
   },
   "file_extension": ".py",
   "mimetype": "text/x-python",
   "name": "python",
   "nbconvert_exporter": "python",
   "pygments_lexer": "ipython3",
   "version": "3.12.3"
  }
 },
 "nbformat": 4,
 "nbformat_minor": 5
}
