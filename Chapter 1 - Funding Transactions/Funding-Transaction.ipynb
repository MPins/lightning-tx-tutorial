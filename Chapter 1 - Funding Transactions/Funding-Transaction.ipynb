{
 "cells": [
  {
   "cell_type": "markdown",
   "id": "70ade43f-214e-4c6b-a3ea-eff5646df854",
   "metadata": {},
   "source": [
    "# Creating a Funding Transaction\n",
    "\n",
    "In this section we'll create a Lightning Channel funding transaction from scratch in python. We'll go through each part of the transaction, how it's constructed, signed, and the message the peers exchange to send and get the needed information from each other to make it happen. We'll test it using bitcoin core in regtest mode.\n",
    "\n",
    "## Prerequisite knowledge\n",
    "### For all notebooks\n",
    "- A high level understanding of the bitcoin. e.g. [Mastering Bitcoin](https://github.com/bitcoinbook/bitcoinbook), in particular [Chapter 6](https://github.com/bitcoinbook/bitcoinbook/blob/develop/ch06.asciidoc).\n",
    "- A conceptual understanding of [hash functions](https://www.thesslstore.com/blog/what-is-a-hash-function-in-cryptography-a-beginners-guide).\n",
    "- [Hexadecimal notation](https://inst.eecs.berkeley.edu/~cs61bl/r//cur/bits/decimal-binary-hex.html?topic=lab28.topic&step=2&course=) and [endianness](https://www.freecodecamp.org/news/what-is-endianness-big-endian-vs-little-endian/).\n",
    "- A high level understanding of the lightning e.g. [Mastering Lightning Network](https://github.com/lnbook/lnbook), in particular [Chapter7](https://github.com/lnbook/lnbook/blob/develop/07_payment_channels.asciidoc), [Chapter 8](https://github.com/lnbook/lnbook/blob/develop/08_routing_htlcs.asciidoc) and [Chapter 9](https://github.com/lnbook/lnbook/blob/develop/09_channel_operation.asciidoc).\n",
    "\n",
    "### Specific to this notebook:\n",
    "- SHA256, HASH256, HASH160 - '[Hash Functions chapter](https://github.com/MPins/lightning-tx-tutorial/blob/main/appendix/hash-functions.ipynb)'\n",
    "- Bech32 addresses - '[Addresses chapter](https://github.com/MPins/lightning-tx-tutorial/blob/main/appendix/Addresses.ipynb)'\n",
    "- Bitcoin Script basics - '[Bitcoin Script chapter](https://github.com/MPins/lightning-tx-tutorial/blob/main/appendix/Bitcoin%20Script.ipynb)'\n",
    "- Lightning Network BOLT #2: '[Peer Protocol for Channel Management](https://github.com/lightning/bolts/blob/master/02-peer-protocol.md#channel-establishment-v1)'"
   ]
  },
  {
   "cell_type": "markdown",
   "id": "997345fc-359f-40ba-bb1f-4ccbbe6de230",
   "metadata": {},
   "source": [
    "## Channel Establishment v1\n",
    "\n",
    "The Basis of Lightning Technology ([BOLT](https://github.com/lightning/bolts/blob/master/00-introduction.md)) defines two pathways to create a channel, lets focus on the legacy one because most of the channels are created using it, and lets the 'Channel Establishment v2' for the following notebook.\n",
    "\n",
    "    +-----------+                              +---------+\n",
    "    |           |--(1)---  open_channel  ----->|         |\n",
    "    |           |<-(2)--  accept_channel  -----|         |\n",
    "    |           |                              |         |\n",
    "    |   Alice   |--(3)--  funding_created  --->|   Bob   |\n",
    "    |           |<-(4)--  funding_signed  -----|         |\n",
    "    |           |                              |         |\n",
    "    |           |--(5)---  channel_ready  ---->|         |\n",
    "    |           |<-(6)---  channel_ready  -----|         |\n",
    "    +-----------+                              +---------+\n",
    "\n",
    "    - where node Alice is 'funder' and node Bob is 'fundee'\n",
    "\n",
    "Alice send the [`open_channel`](https://github.com/lightning/bolts/blob/master/02-peer-protocol.md#the-open_channel-message) message to Bob. This message define many channel operational criterias, here we are going to focus on the information that are used in the funding transaction:\n",
    "* chain_hash - denotes the exact blockchain that the opened channel will reside within.\n",
    "* funding_satoshis - is the amount the sender is putting into the channel\n",
    "* funding_pubkey - is the public key in the 2-of-2 multisig script of the funding transaction output.\n",
    "\n",
    "If Bob does not agree with the criterias sent into the `open_channel` message he send a [`error_message`](https://github.com/lightning/bolts/blob/master/01-messaging.md#the-error-and-warning-messages) back to Alice, otherwise he sends the [`accept_channel`](https://github.com/lightning/bolts/blob/master/02-peer-protocol.md#the-accept_channel-message) message, containing some operational criterias from your side, here we are going to focus on the information that are used in the funding transaction:\n",
    "* funding_pubkey - is the public key in the 2-of-2 multisig script of the funding transaction output.\n",
    "\n",
    "## The Funding Transaction\n",
    "\n",
    "The funding transaction input could be one or more UTXOs from Alice (the funder) and the outputs are: the change to Alice and a P2WSH output (pay-to-witness-script-hash)<sup>[BIP141](https://github.com/bitcoin/bips/blob/master/bip-0141.mediawiki#witness-program)</sup> funding the channel, the order of the pubkeys on the output script is defined lexicographically, where pubkey1 is the lesser of the two funding_pubkey in compressed format and pubkey2 is the greater.\n",
    "\n",
    "`2 <pubkey1> <pubkey2> 2 OP_CHECKMULTISIG`\n",
    "\n",
    "## Setup \n",
    "\n",
    "### Requirements\n",
    "For this chapter we'll need the Bitcoin Core. This notebook has been tested with [v28.0](https://github.com/bitcoin/bitcoin/releases/tag/v28.0).\n",
    "\n",
    "Below, set the paths for:\n",
    "1. The bitcoin core functional test framework directory.\n",
    "2. The directory containing lightning-tx-tutorial.\n",
    "\n",
    "**You'll need to edit these next two lines for your local setup.**"
   ]
  },
  {
   "cell_type": "code",
   "execution_count": 1,
   "id": "5b1ce9cb-5a55-4acc-a894-ce9cd4b2b58e",
   "metadata": {},
   "outputs": [],
   "source": [
    "path_to_bitcoin_functional_test = \"/home/pins-dev/Projects/bitcoin/test/functional\"\n",
    "path_to_bitcoin_tx_tutorial = \"/home/pins-dev/Projects/lightning-tx-tutorial\"\n",
    "\n",
    "import sys\n",
    "\n",
    "# Add the functional test framework to our PATH\n",
    "sys.path.insert(0, path_to_bitcoin_functional_test)\n",
    "from test_framework.test_shell import TestShell\n",
    "\n",
    "# Add the lightning-tx-tutorial functions to our PATH\n",
    "sys.path.insert(0, path_to_bitcoin_tx_tutorial)\n",
    "from functions import *\n",
    "\n",
    "import json"
   ]
  },
  {
   "cell_type": "code",
   "execution_count": 3,
   "id": "89ae8d19-1ec7-4ccf-a14c-faaa6c8f546e",
   "metadata": {},
   "outputs": [
    {
     "name": "stdout",
     "output_type": "stream",
     "text": [
      "Alice Revocation Basepoint Private Key: c17ac3952ca414190074d1e59ea03fbae253196173908dc8b131af6bd2cc8161\n",
      "Alice Revocation Basepoint Public Key: 03649c4f865bec74b0a186deef4defad51cfdc141443e38074ea05a7835a953a49\n",
      "Alice HTLC Basepoint Private Key: 763ae49a20e6668c88602c782716dd83ba6c4cc0333b38810e2bcd7b22c871ac\n",
      "Alice HTLC Basepoint Public Key: 02816fde4150e4dfcac94eff0b821448fb70f57a56148ba2206cd9b2fd0cc20bdf\n",
      "Alice Payment Basepoint Private Key: 72d8c12971b58076a1f27eb7938ca442f0b210762b23637443ac2e99dac352a6\n",
      "Alice Payment Basepoint Public Key: 025f892a06124391e2f38ce35d943cdc09f63e203330dbd9cb6113a903e0738458\n",
      "Alice Delayed Payment Basepoint Private Key: 7cafce00c54e7241894dcc7c3beaca29dd354139fdb6182198d6c5f1063bfe8d\n",
      "Alice Delayed Payment Basepoint Public Key: 034aa35219136bb238e072341b20a4bf8fb44a83cdb73dd2bd973c123ac2dfd7ff\n",
      "Bob Revocation Basepoint Private Key: fa526e09b9ff7425552db1803d7e12cf4475d060db4cfb812adb07219a54baa0\n",
      "Bob Revocation Basepoint Public Key: 02536407aada57068f30b53c4126062d235967c3636147433e72b21ff93c8acdbf\n",
      "Bob HTLC Basepoint Private Key: 06d61bb059eef194a3d223992a028fbd31f2e8b289d5a10acd343671c9322155\n",
      "Bob HTLC Basepoint Public Key: 0306b11436efa058a86f997df6596ea4579241f3909175772d77df38a5255f52f4\n",
      "Bob Payment Basepoint Private Key: 5046024e716c479599350b7aee8139304d942360733d8dd79793917f9e33a334\n",
      "Bob Payment Basepoint Public Key: 02f98efd3f2b2fbe7bd83c419f5f64f8280798b8a9175fdb77c0091bbb95c79506\n",
      "Bob Delayed Payment Basepoint Private Key: d764d4c083cac97d34913bdf123c3dfef5379db9e9b0652897783e0d01880bb3\n",
      "Bob Delayed Payment Basepoint Public Key: 032a5869ac5eb30ba1e9c9addd3740822dac6f45a8de9b3d4e171f14c3abce2dae\n",
      "Alice Funding Private Key: ccd60731893309bb59a6030a581fc80984fa96129e10cf8342c0b0b800ffb51c\n",
      "Alice Funding Public Key: 02245c997231079146616f70eae46dd43461b530cb55df50cac8ef321127adb963\n",
      "Alice Change Private Key: 6c2bda7af1291da770d0041794bbc891ac27c2fbe6a8a825a8f14f3b904b1f4e\n",
      "Alice Change Public Key: 02f0006732c6db9e73522b31168bda043cbf7759c46e553eae9dede26ccd08a39b\n",
      "Bob Private Key: ca62b96f01783d13a48be4e8a2ca9c48093f62b64537d4c3c33d45d7cb53a0a7\n",
      "Bob Public Key: 032b057a643c7b928b7dc30e1f76c2a777a213fe3a7462215d10220844befe77c3\n"
     ]
    }
   ],
   "source": [
    "# run notebook\n",
    "%run \"/home/pins-dev/Projects/lightning-tx-tutorial/Chapter 0 - Key Derivation/The Lightning Node Keys.ipynb\""
   ]
  },
  {
   "cell_type": "markdown",
   "id": "1ce2c7e4-0081-418c-a35b-2f5c654ca6fa",
   "metadata": {},
   "source": [
    "### Creating the Inputs of the Channel Funding Transaction\n",
    "\n",
    "In order to have Alice as funder of the channel we are going to create P2WPKH UTXO, to do that, we'll use the keys generated for Alice node into the previous notebook and convert them to p2wpkh addresses and send 0.201 BTC to Alice funding address, this transaction will be the input transaction of the Channel Funding transaction."
   ]
  },
  {
   "cell_type": "code",
   "execution_count": 5,
   "id": "15d3aebd-89fd-4d89-84c8-6576dc1df3ad",
   "metadata": {},
   "outputs": [
    {
     "name": "stdout",
     "output_type": "stream",
     "text": [
      "Alice's funding p2wpkh address: bcrt1qt0vq5dj8qa720lfx3hhzyu9ygsng9js3g02lnl\n",
      "Alice's change p2wpkh address: bcrt1qt6ax8rh20h6zts0dcqmzdy9kte3pds4lrzwl6s\n",
      "2025-01-19T20:17:24.897000Z TestFramework (INFO): PRNG seed is: 3934714372535145441\n",
      "2025-01-19T20:17:24.901000Z TestFramework (INFO): Initializing test directory /tmp/bitcoin_func_test_40py99mc\n",
      "txid_to_spent: 0a77041fd6c1b322b6a8c74457f7c333fce148a9ab50412343339e48532b09bd, 0\n"
     ]
    }
   ],
   "source": [
    "alice_funding_address = pk_to_p2wpkh(bytes.fromhex(alice_funding_pubkey), network = \"regtest\")\n",
    "print(\"Alice's funding p2wpkh address: \" + alice_funding_address)\n",
    "alice_change_address = pk_to_p2wpkh(bytes.fromhex(alice_change_pubkey), network = \"regtest\")\n",
    "print(\"Alice's change p2wpkh address: \" + alice_change_address)\n",
    "\n",
    "node = setup_testshell()\n",
    "txid_to_spend, index_to_spend = fund_address(node, alice_funding_address, 0.201)\n",
    "print(f\"txid_to_spent: {txid_to_spend}, {index_to_spend}\")"
   ]
  },
  {
   "cell_type": "markdown",
   "id": "967aa175-387b-407a-8de2-e629132461cc",
   "metadata": {},
   "source": [
    "### Creating the Outputs of the Channel Funding Transaction\n",
    "\n",
    "In order to create the output of the channel funding transaction we are going to create the 2 of 2 multisig redeem script and convert it to a P2WSH address, the oder output is the change address of Alice who is funding the channel."
   ]
  },
  {
   "cell_type": "code",
   "execution_count": 9,
   "id": "6e989e07-63cd-4b48-8bbc-7cce886883b1",
   "metadata": {},
   "outputs": [
    {
     "name": "stdout",
     "output_type": "stream",
     "text": [
      "Alice pubkey is lexicographically lesser than Bob pubkey:\n",
      "02245c997231079146616f70eae46dd43461b530cb55df50cac8ef321127adb963 < 032b057a643c7b928b7dc30e1f76c2a777a213fe3a7462215d10220844befe77c3\n",
      "Redeem Script:\n",
      "522102245c997231079146616f70eae46dd43461b530cb55df50cac8ef321127adb96321032b057a643c7b928b7dc30e1f76c2a777a213fe3a7462215d10220844befe77c352ae\n",
      "channel_address:  bcrt1qhsn37ekwjgxlajuavyzne28yrahkyesgnr6qhxvzlw3807ttcjeqhcl6mc\n"
     ]
    }
   ],
   "source": [
    "# Compare the public keys lexicographically\n",
    "if alice_funding_pubkey < bob_funding_pubkey:\n",
    "    print(f\"Alice pubkey is lexicographically lesser than Bob pubkey:\\n{alice_funding_pubkey} < {bob_funding_pubkey}\")\n",
    "    pubkey1 = alice_funding_pubkey\n",
    "    pubkey2 = bob_funding_pubkey\n",
    "elif alice_funding_pubkey > bob_funding_pubkey:\n",
    "    print(f\"Alice pubkey is lexicographically greater than Bob pubkey:\\n{alice_funding_pubkey} > {bob_funding_pubkey}\")\n",
    "    pubkey2 = alice_funding_pubkey\n",
    "    pubkey1 = bob_funding_pubkey\n",
    "else:\n",
    "    print(\"Error: the public keys are equal.\")\n",
    "\n",
    "# Redeem Script: 2 <pubkey1> <pubkey2> 2 OP_CHECKMULTISIG\n",
    "# \"21\" is the length of a 33 bytes (compressed) pubkey in hex notation\n",
    "redeemScript = bytes.fromhex(\n",
    "    \"52\"           # requires 2 signatures\n",
    "    + \"21\"         # First pubkey\n",
    "    + pubkey1      \n",
    "    + \"21\"         # Second pubkey\n",
    "    + pubkey2\n",
    "    + \"52\"\n",
    "    + \"ae\")        # OP_CHECKMULTISIG\n",
    "\n",
    "print(f\"Redeem Script:\\n{redeemScript.hex()}\")\n",
    "\n",
    "channel_address = script_to_p2wsh(redeemScript, \"regtest\")\n",
    "print(\"channel_address: \",channel_address)\n",
    "\n",
    "# Our outputs\n",
    "# Output1 is the Alice Change P2WPKH\n",
    "output1_value_sat = int(float(\"0.15\") * 100000000)\n",
    "pk_hash = hash160(bytes.fromhex(alice_change_pubkey))\n",
    "# Output2 is the Channel P2WSH\n",
    "# The channel capacity is 5.000.000 of satoshis\n",
    "output2_value_sat = int(float(\"0.05\") * 100000000)\n",
    "script_hash = hashlib.sha256(redeemScript).digest()\n",
    "# The Alice UTXO was 0.201, we are leaving 0.001 as the fee of the funding trransaction"
   ]
  },
  {
   "cell_type": "markdown",
   "id": "ccfcef05-aeaa-4c87-b294-bbf92138bdb2",
   "metadata": {},
   "source": [
    "### Creating the Unsigned Channel Funding Transaction\n",
    "\n",
    "Now that we've defined everything we need, we can fill in the fields we need to create our unsigned transaction. What makes a transaction 'unsigned' is that the witness field is empty."
   ]
  },
  {
   "cell_type": "code",
   "execution_count": 10,
   "id": "6823308b-e949-4715-9705-84ed9ebcd919",
   "metadata": {},
   "outputs": [
    {
     "name": "stdout",
     "output_type": "stream",
     "text": [
      "unsigned_tx:  0200000001bd092b53489e3343234150aba948e1fc33c3f75744c7a8b622b3c1d61f04770a0000000000ffffffff02c0e1e400000000001600145eba638eea7df425c1edc0362690b65e6216c2bf404b4c0000000000220020bc271f66ce920dfecb9d61053ca8e41f6f62660898f40b9982fba277f96bc4b200000000\n"
     ]
    }
   ],
   "source": [
    "# VERSION\n",
    "# version '2' indicates that we may use relative timelocks (BIP68)\n",
    "version = bytes.fromhex(\"0200 0000\")\n",
    "\n",
    "# MARKER\n",
    "marker = bytes.fromhex(\"00\")\n",
    "\n",
    "# FLAG\n",
    "flag = bytes.fromhex(\"01\")\n",
    "\n",
    "# INPUTS\n",
    "# We have just 1 input\n",
    "input_count = bytes.fromhex(\"01\")\n",
    "\n",
    "# Convert txid and index to bytes (little endian)\n",
    "txid = (bytes.fromhex(txid_to_spend))[::-1]\n",
    "index = index_to_spend.to_bytes(4, byteorder=\"little\", signed=False)\n",
    "\n",
    "# For the unsigned transaction we use an empty scriptSig\n",
    "scriptsig = bytes.fromhex(\"\")\n",
    "\n",
    "# use 0xffffffff unless you are using OP_CHECKSEQUENCEVERIFY, locktime, or rbf\n",
    "sequence = bytes.fromhex(\"ffff ffff\")\n",
    "\n",
    "inputs = (\n",
    "    txid\n",
    "    + index\n",
    "    + varint_len(scriptsig)\n",
    "    + scriptsig\n",
    "    + sequence\n",
    ")\n",
    "\n",
    "# OUTPUTS\n",
    "# 0x02 for out two outputs\n",
    "output_count = bytes.fromhex(\"02\")\n",
    "\n",
    "# OUTPUT 1 to Alice Change Address\n",
    "output1_value = output1_value_sat.to_bytes(8, byteorder=\"little\", signed=True)\n",
    "# 'output1_spk' \n",
    "output1_spk = bytes.fromhex(\"0014\") + pk_hash\n",
    "\n",
    "\n",
    "# OUTPUT 2 to Channel Funding Address\n",
    "output2_value = output2_value_sat.to_bytes(8, byteorder=\"little\", signed=True)\n",
    "# 'output2_spk'\n",
    "output2_spk = bytes.fromhex(\"0020\") + script_hash\n",
    "\n",
    "outputs = (\n",
    "    output1_value\n",
    "    + varint_len(output1_spk)\n",
    "    + output1_spk\n",
    "    + output2_value\n",
    "    + varint_len(output2_spk)\n",
    "    + output2_spk\n",
    ")\n",
    "\n",
    "# LOCKTIME\n",
    "locktime = bytes.fromhex(\"0000 0000\")\n",
    "\n",
    "unsigned_tx = (\n",
    "    version\n",
    "    + input_count\n",
    "    + inputs\n",
    "    + output_count\n",
    "    + outputs\n",
    "    + locktime\n",
    ")\n",
    "\n",
    "print(\"unsigned_tx: \", unsigned_tx.hex())\n",
    "\n"
   ]
  },
  {
   "cell_type": "markdown",
   "id": "4989d85d-f7b9-444e-905b-6431a8bd6f8c",
   "metadata": {},
   "source": [
    "We can decode this raw transaction to inspect it and see that it has all the information we need apart from the segwit fields (version, marker, and witness).\n",
    "\n",
    "Just uncomment the lines below to do that."
   ]
  },
  {
   "cell_type": "code",
   "execution_count": 11,
   "id": "238b067c-4ee0-4595-8c9b-849046fd0be4",
   "metadata": {},
   "outputs": [],
   "source": [
    "# decoded = node.decoderawtransaction(unsigned_tx.hex())\n",
    "# print(json.dumps(decoded, indent=2, default=str))"
   ]
  },
  {
   "cell_type": "markdown",
   "id": "46f94c47-213c-4738-a29b-d6f1f2593223",
   "metadata": {},
   "source": [
    "### Signing the Channel Funding Transaction\n",
    "\n",
    "Segwit transactions have a signing scheme described in [BIP143](https://github.com/bitcoin/bips/blob/master/bip-0143.mediawiki). According to the sighash type (ALL, NONE, SINGLE, ANYONECANPAY), a transaction digest is generated with a double SHA256 of a serialized subset of the transaction (tx_digest_preimage), and the signature is verified against this digest with a given public key."
   ]
  },
  {
   "cell_type": "markdown",
   "id": "5abed5ac-a473-4fb1-97c2-3b02f664e44c",
   "metadata": {},
   "source": [
    "#### Creating the Transaction Digest Preimage"
   ]
  },
  {
   "cell_type": "code",
   "execution_count": 12,
   "id": "ecb926cb-00d2-43ed-9be4-2844116f88d0",
   "metadata": {},
   "outputs": [
    {
     "name": "stdout",
     "output_type": "stream",
     "text": [
      "tx_digest_preimage:  02000000b9076efe15da962420223f4f209f72153bc8660fa15d073eb3482fd5d3cdba6e3bb13029ce7b1f559ef5e747fcac439f1455a2ec7c5f09b72290795e70665044bd092b53489e3343234150aba948e1fc33c3f75744c7a8b622b3c1d61f04770a000000001976a9145bd80a3647077ca7fd268dee2270a4442682ca1188aca0b3320100000000fffffffff024a453c206730b975be44da5987693c127c508aada9aabadc9455fb74b5fc60000000001000000\n"
     ]
    }
   ],
   "source": [
    "pk_hash = hash160(bytes.fromhex(alice_funding_pubkey))\n",
    "scriptcode = bytes.fromhex(\"76a914\" + pk_hash.hex() + \"88ac\")\n",
    "\n",
    "input_amount_sat = int(0.201 * 100_000_000)\n",
    "value = input_amount_sat.to_bytes(8, byteorder=\"little\", signed=False)\n",
    "\n",
    "hashPrevOuts = hash256(txid + index)\n",
    "hashSequence = hash256(sequence)\n",
    "hashOutputs = hash256(outputs)\n",
    "sighash_type = bytes.fromhex(\"0100 0000\") # SIGHASH_ALL\n",
    "\n",
    "tx_digest_preimage = (\n",
    "    version\n",
    "    + hashPrevOuts\n",
    "    + hashSequence\n",
    "    + txid\n",
    "    + index\n",
    "    + varint_len(scriptcode)\n",
    "    + scriptcode\n",
    "    + value\n",
    "    + sequence\n",
    "    + hashOutputs\n",
    "    + locktime\n",
    "    + sighash_type\n",
    ")\n",
    "print(\"tx_digest_preimage: \",tx_digest_preimage.hex())"
   ]
  },
  {
   "cell_type": "markdown",
   "id": "628b07a1-a37b-4cb9-a7fe-c23683554f4d",
   "metadata": {},
   "source": [
    "#### Creating the Transaction Digest and Signing it\n",
    "\n",
    "Now we are ready to hash this transaction digest preimage and produce an ecdsa signature on it.\n",
    "\n",
    "Before hashing the transaction with hash256, we append the sighash flag. In this example we'll use the most commonly used SIGHASH_ALL flag, meaning the signature guarantees the input will only be used in a transaction with these exact inputs and outputs.\n",
    "\n",
    "Note that when we append the sighash flag to the transaction, we use 4 bytes, however when we append the sighash flag to the end of the signature itself we only use 1 byte."
   ]
  },
  {
   "cell_type": "code",
   "execution_count": 13,
   "id": "b7b95644-9f14-4ce9-a536-e3dd87ee92ad",
   "metadata": {},
   "outputs": [
    {
     "name": "stdout",
     "output_type": "stream",
     "text": [
      "signed transaction:  02000000000101bd092b53489e3343234150aba948e1fc33c3f75744c7a8b622b3c1d61f04770a0000000000ffffffff02c0e1e400000000001600145eba638eea7df425c1edc0362690b65e6216c2bf404b4c0000000000220020bc271f66ce920dfecb9d61053ca8e41f6f62660898f40b9982fba277f96bc4b20247304402201bf5e30e5f67ec27c6d16bb694adb6c362b52f8223bf7748908ee7910d232ca802205c968d516430cbb3b58f57ee5ae7edd607b44bfe9e3e15d7904a80f556a58491012102245c997231079146616f70eae46dd43461b530cb55df50cac8ef321127adb96300000000\n"
     ]
    }
   ],
   "source": [
    "# Create the Transaction Digest (sigHash) to be signed\n",
    "sighash = hash256(tx_digest_preimage)\n",
    "\n",
    "# Sign the sigHash with the input private key\n",
    "signing_key = ecdsa.SigningKey.from_string(bytes.fromhex(alice_funding_privkey), curve=ecdsa.SECP256k1) \n",
    "signature = signing_key.sign_digest(sighash, sigencode=ecdsa.util.sigencode_der_canonize)\n",
    "\n",
    "# Append SIGHASH_ALL to the signature\n",
    "signature = signature + bytes.fromhex(\"01\")\n",
    "\n",
    "# Witness field\n",
    "witness = (\n",
    "    # indicate the number of stack items for the txin\n",
    "    # 2 items for signature and pubkey\n",
    "    bytes.fromhex(\"02\")\n",
    "    + varint_len(signature)\n",
    "    + signature\n",
    "    + varint_len(bytes.fromhex(alice_funding_pubkey))\n",
    "    + bytes.fromhex(alice_funding_pubkey)\n",
    ")\n",
    "\n",
    "# the final signed transaction\n",
    "signed_tx = (\n",
    "    version\n",
    "    + marker\n",
    "    + flag\n",
    "    + input_count\n",
    "    + inputs # scriptsig left empty as espcified on BIP\n",
    "    + output_count\n",
    "    + outputs\n",
    "    + witness\n",
    "    + locktime\n",
    ")\n",
    "\n",
    "print(\"signed transaction: \",signed_tx.hex())"
   ]
  },
  {
   "cell_type": "markdown",
   "id": "072d1591-a71e-42d2-806d-3d563b8a3b3f",
   "metadata": {},
   "source": [
    "### The funding_created Message\n",
    "Now Alice can send Bob the [`funding_created`](https://github.com/lightning/bolts/blob/master/02-peer-protocol.md#the-funding_created-message) message with the following information from the channel funding transaction:\n",
    "- funding_txid\n",
    "- funding_output_index\n",
    "- signature\n",
    "\n",
    "This message describes the outpoint which Alice has created for the initial commitment transactions.\n",
    "\n",
    "Alice should never broadcast this channel funding transaction before having the Bob signature for the commitment transaction, otherwise she would have to trust Bob to get her funds back from the multisig UTXO. So let's got to the next [notebook](https://github.com/MPins/lightning-tx-tutorial/blob/master/Chapter%202%20-%20Commitment%20Transactions/Alice%20Commitment%20Transaction.ipynb) to see the commitment transactions construction in detail.\n",
    "\n",
    "To see if our channel funding transaction would have been accepted, we can use the testmempoolaccept command below.\n"
   ]
  },
  {
   "cell_type": "code",
   "execution_count": 14,
   "id": "4962fb77-8d5e-4e35-8fa7-3c97a986148f",
   "metadata": {},
   "outputs": [
    {
     "name": "stdout",
     "output_type": "stream",
     "text": [
      "[{'txid': 'b0a646de1ca1cd72a555fecd15acaa3fa30299ac2ba9c54d23ed058e012e361a', 'wtxid': 'ea72bf429d7f0cd71f3ef64c55ab3c33539702a6b82dafd14018443768d05695', 'allowed': True, 'vsize': 153, 'fees': {'base': Decimal('0.00100000'), 'effective-feerate': Decimal('0.00653594'), 'effective-includes': ['ea72bf429d7f0cd71f3ef64c55ab3c33539702a6b82dafd14018443768d05695']}}]\n"
     ]
    }
   ],
   "source": [
    "result = node.testmempoolaccept(rawtxs=[signed_tx.hex()])\n",
    "print(result)"
   ]
  }
 ],
 "metadata": {
  "kernelspec": {
   "display_name": "Python 3 (ipykernel)",
   "language": "python",
   "name": "python3"
  },
  "language_info": {
   "codemirror_mode": {
    "name": "ipython",
    "version": 3
   },
   "file_extension": ".py",
   "mimetype": "text/x-python",
   "name": "python",
   "nbconvert_exporter": "python",
   "pygments_lexer": "ipython3",
   "version": "3.12.3"
  }
 },
 "nbformat": 4,
 "nbformat_minor": 5
}
