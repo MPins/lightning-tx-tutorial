{
 "cells": [
  {
   "cell_type": "markdown",
   "id": "70ade43f-214e-4c6b-a3ea-eff5646df854",
   "metadata": {},
   "source": [
    "# Creating a Funding Transaction\n",
    "\n",
    "In this section we'll create a Lightning Channel funding transaction from scratch in python. We'll go through each part of the transaction, how it's constructed, signed, and the message the peers exchange to send and get the needed information from each other to make it happen. We'll test it using bitcoin core in regtest mode.\n",
    "\n",
    "## Prerequisite knowledge\n",
    "- For all notebooks:\n",
    "    - A high level understanding of the bitcoin. e.g. [Mastering Bitcoin](https://github.com/bitcoinbook/bitcoinbook) by Andreas Antonopoulos UTXO model, in particular [Chapter 6](https://github.com/bitcoinbook/bitcoinbook/blob/develop/ch06.asciidoc).\n",
    "    - A high level understanding of the Lightning Network. e.g. [Mastering Lightning](https://github.com/bitcoinbook/bitcoinbook) TODO Get the chapter to point it here\n",
    "    - A conceptual understanding of [hash functions](https://www.thesslstore.com/blog/what-is-a-hash-function-in-cryptography-a-beginners-guide).\n",
    "    - [Hexadecimal notation](https://inst.eecs.berkeley.edu/~cs61bl/r//cur/bits/decimal-binary-hex.html?topic=lab28.topic&step=2&course=) and [endianness](https://www.freecodecamp.org/news/what-is-endianness-big-endian-vs-little-endian/).\n",
    "\n",
    "- Specific to this notebook:\n",
    "    - SHA256, HASH256, HASH160 - '[Hash Functions chapter](https://github.com/MPins/lightning-tx-tutorial/blob/main/appendix/hash-functions.ipynb)'\n",
    "    - Bech32 addresses - '[Addresses chapter](https://github.com/MPins/lightning-tx-tutorial/blob/main/appendix/Addresses.ipynb)'\n",
    "    - Bitcoin Script basics - '[Bitcoin Script chapter](https://github.com/MPins/lightning-tx-tutorial/blob/main/appendix/Bitcoin%20Script.ipynb)'\n",
    "    - Lightning Network BOLT #2: '[Peer Protocol for Channel Management](https://github.com/lightning/bolts/blob/master/02-peer-protocol.md#channel-establishment-v1)'"
   ]
  },
  {
   "cell_type": "markdown",
   "id": "997345fc-359f-40ba-bb1f-4ccbbe6de230",
   "metadata": {},
   "source": [
    "## Channel Establishment v1\n",
    "\n",
    "The Basis of Lightning Technology ([BOLT](https://github.com/lightning/bolts/blob/master/00-introduction.md)) defines two pathways to create a channel, lets focus on the legacy one because most of the channels are created using it, and lets the 'Channel Establishment v2' for the following notebook.\n",
    "\n",
    "    +-----------+                              +---------+\n",
    "    |           |--(1)---  open_channel  ----->|         |\n",
    "    |           |<-(2)--  accept_channel  -----|         |\n",
    "    |           |                              |         |\n",
    "    |   Alice   |--(3)--  funding_created  --->|   Bob   |\n",
    "    |           |<-(4)--  funding_signed  -----|         |\n",
    "    |           |                              |         |\n",
    "    |           |--(5)---  channel_ready  ---->|         |\n",
    "    |           |<-(6)---  channel_ready  -----|         |\n",
    "    +-----------+                              +---------+\n",
    "\n",
    "    - where node Alice is 'funder' and node Bob is 'fundee'\n",
    "\n"
   ]
  },
  {
   "cell_type": "markdown",
   "id": "1440ebee-b6bd-418f-b6d1-6b05678e4ed8",
   "metadata": {},
   "source": [
    "Alice send the [`open_channel`](https://github.com/lightning/bolts/blob/master/02-peer-protocol.md#the-open_channel-message) message to Bob. This message define many channel operational criterias, here we are going to focus on the information that are used in the funding transaction:\n",
    "* chain_hash - denotes the exact blockchain that the opened channel will reside within.\n",
    "* funding_satoshis - is the amount the sender is putting into the channel\n",
    "* funding_pubkey - is the public key in the 2-of-2 multisig script of the funding transaction output.\n"
   ]
  },
  {
   "cell_type": "markdown",
   "id": "24f53eff-7007-482c-a8a2-c73dcbbef8f4",
   "metadata": {},
   "source": [
    "If Bob does not agree with the criterias sent into the `open_channel` message he send a [`error_message`](https://github.com/lightning/bolts/blob/master/01-messaging.md#the-error-and-warning-messages) back to Alice, otherwise he sends the [`accept_channel`](https://github.com/lightning/bolts/blob/master/02-peer-protocol.md#the-accept_channel-message) message, containing some operational criterias from your side, here we are going to focus on the information that are used in the funding transaction:\n",
    "* funding_pubkey - is the public key in the 2-of-2 multisig script of the funding transaction output."
   ]
  },
  {
   "cell_type": "markdown",
   "id": "69984fee-859e-4e0b-b653-439e3d7f0de5",
   "metadata": {},
   "source": [
    "## The Funding Transaction\n",
    "\n",
    "The funding transaction input could be one or more UTXOs from Alice (the funder) and the output arethea change to Alice and a P2WSH output (pay-to-witness-script-hash)<sup>[BIP141](https://github.com/bitcoin/bips/blob/master/bip-0141.mediawiki#witness-program)</sup> funding the channel, the order of the pubkeys on the output script is defined lexicographically, where pubkey1 is the lesser of the two funding_pubkey in compressed format and pubkey2 is the greater.\n",
    "\n",
    "`2 <pubkey1> <pubkey2> 2 OP_CHECKMULTISIG`"
   ]
  },
  {
   "cell_type": "markdown",
   "id": "44cfad1b-ad86-4d8f-8db1-dd877cc57f3a",
   "metadata": {},
   "source": [
    "## Setup \n",
    "\n",
    "### Requirements\n",
    "For this exercise we'll need Bitcoin Core. This notebook has been tested with [v24.0.1](https://github.com/bitcoin/bitcoin/releases/tag/v24.0.1).\n",
    "\n",
    "Below, set the paths for:\n",
    "1. The bitcoin core functional test framework directory.\n",
    "2. The directory containing lightning-tx-tutorial.\n",
    "\n",
    "**You'll need to edit these next two lines for your local setup.**"
   ]
  },
  {
   "cell_type": "code",
   "execution_count": 1,
   "id": "5b1ce9cb-5a55-4acc-a894-ce9cd4b2b58e",
   "metadata": {},
   "outputs": [],
   "source": [
    "path_to_bitcoin_functional_test = \"/home/pins-dev/Projects/bitcoin/test/functional\"\n",
    "path_to_bitcoin_tx_tutorial = \"/home/pins-dev/Projects/lightning-tx-tutorial\"\n",
    "\n",
    "import sys\n",
    "\n",
    "# Add the functional test framework to our PATH\n",
    "sys.path.insert(0, path_to_bitcoin_functional_test)\n",
    "from test_framework.test_shell import TestShell\n",
    "\n",
    "# Add the lightning-tx-tutorial functions to our PATH\n",
    "sys.path.insert(0, path_to_bitcoin_tx_tutorial)\n",
    "from functions import *\n",
    "\n",
    "import json"
   ]
  },
  {
   "cell_type": "code",
   "execution_count": 2,
   "id": "89ae8d19-1ec7-4ccf-a14c-faaa6c8f546e",
   "metadata": {},
   "outputs": [
    {
     "name": "stdout",
     "output_type": "stream",
     "text": [
      "Alice Funding Private Key: 23c334147ed9438c41de42a848186cf66a1fc7ac9b9188b7bb048784d3d8957f\n",
      "Alice Funding Public Key: 028e3fe2292fbcf3d5dbe3ae8d6589022e5188e8e3045c2c817a8ef9f643246b0d\n",
      "Alice Change Private Key: 016ed3c51e103c3af4c7881c39e193058f98604e61838dc328747ce62f93476c\n",
      "Alice Change Public Key: 035cf94ac57d02edc7ea0cb466ad3e91d758a6a8926ea759d23e180cdc54a2edf5\n",
      "Bob Private Key: 58a2d30fbb47919a9e06a67d296c5623fdb81d8b6602fa17b32d2737f1a6a379\n",
      "Bob Public Key: 038fdb901132874d1c7722c0c2074010216655af5d6019fab965d5ffba8724a931\n"
     ]
    }
   ],
   "source": [
    "# run notebook\n",
    "%run \"/home/pins-dev/Projects/lightning-tx-tutorial/Chapter 0 - Key Derivation/The Lightning Node Transactions Keys.ipynb\""
   ]
  },
  {
   "cell_type": "markdown",
   "id": "1ce2c7e4-0081-418c-a35b-2f5c654ca6fa",
   "metadata": {},
   "source": [
    "### Create a P2WPKH UTXO\n",
    "\n",
    "In order to have Alice as funder of a channel we are going to create P2WPKH UTXO. To do that, we'll define a private key for Alice node and use it to generate a pubkey, then convert the pubkey to a p2wpkh address, we do the same process to create a change address (when you are running a lightning node, you would use wallet commands to derive addressess to use)."
   ]
  },
  {
   "cell_type": "code",
   "execution_count": 3,
   "id": "15d3aebd-89fd-4d89-84c8-6576dc1df3ad",
   "metadata": {},
   "outputs": [
    {
     "name": "stdout",
     "output_type": "stream",
     "text": [
      "Alice's funding p2wpkh address: bcrt1qeq3ajrptxlst44rpvcfdqyhduqgu9lvz4gvv8z\n",
      "Alice's change p2wpkh address: bcrt1qp3mznwn4pth86kpsehyvjs564c0smlaxfzt480\n"
     ]
    }
   ],
   "source": [
    "alice_funding_address = pk_to_p2wpkh(bytes.fromhex(alice_funding_pubkey), network = \"regtest\")\n",
    "print(\"Alice's funding p2wpkh address: \" + alice_funding_address)\n",
    "alice_change_address = pk_to_p2wpkh(bytes.fromhex(alice_change_pubkey), network = \"regtest\")\n",
    "print(\"Alice's change p2wpkh address: \" + alice_change_address)"
   ]
  },
  {
   "cell_type": "markdown",
   "id": "17405964-ebeb-4837-8cb6-84e07f41e5e1",
   "metadata": {},
   "source": [
    " Finally we send 0.201 BTC to the alice funding address."
   ]
  },
  {
   "cell_type": "code",
   "execution_count": 4,
   "id": "009415f9-fce0-4b47-9aed-6a2f1bab2d9f",
   "metadata": {},
   "outputs": [
    {
     "name": "stdout",
     "output_type": "stream",
     "text": [
      "2025-01-15T17:32:28.158000Z TestFramework (INFO): PRNG seed is: 9185327270521779376\n",
      "2025-01-15T17:32:28.160000Z TestFramework (INFO): Initializing test directory /tmp/bitcoin_func_test_lf5vrs49\n",
      "txid_to_spent: fdb6e556fecaf24b5ad6f5a40e84b500adebeb5028b646b698a6a0b6bb0b11ce, 0\n"
     ]
    }
   ],
   "source": [
    "node = setup_testshell()\n",
    "txid_to_spend, index_to_spend = fund_address(node, alice_funding_address, 0.201)\n",
    "print(f\"txid_to_spent: {txid_to_spend}, {index_to_spend}\")"
   ]
  },
  {
   "cell_type": "markdown",
   "id": "473ec2d5-ae09-4a06-abc8-40a7322783aa",
   "metadata": {},
   "source": [
    "At this moment Alice would send Bob the `open_channel` message and Bob would answer with `accept_channel` message containing its pubkey.So lets' create below the Bob's pubkey."
   ]
  },
  {
   "cell_type": "markdown",
   "id": "967aa175-387b-407a-8de2-e629132461cc",
   "metadata": {},
   "source": [
    "### Create the Channel P2WSH multisig script\n",
    "\n",
    "In order to create the channel funding transaction, we are going to create the 2 of 2 multisig script.\n",
    "\n",
    "For more on this step, review the 'Bitcoin Script' notebook."
   ]
  },
  {
   "cell_type": "code",
   "execution_count": 5,
   "id": "6e989e07-63cd-4b48-8bbc-7cce886883b1",
   "metadata": {},
   "outputs": [
    {
     "name": "stdout",
     "output_type": "stream",
     "text": [
      "Alice pubkey is lexicographically lesser than Bob pubkey:\n",
      "028e3fe2292fbcf3d5dbe3ae8d6589022e5188e8e3045c2c817a8ef9f643246b0d < 038fdb901132874d1c7722c0c2074010216655af5d6019fab965d5ffba8724a931\n",
      "Redeem Script:\n",
      "5221028e3fe2292fbcf3d5dbe3ae8d6589022e5188e8e3045c2c817a8ef9f643246b0d21038fdb901132874d1c7722c0c2074010216655af5d6019fab965d5ffba8724a93152ae\n"
     ]
    }
   ],
   "source": [
    "# Compare the public keys lexicographically\n",
    "if alice_funding_pubkey < bob_funding_pubkey:\n",
    "    print(f\"Alice pubkey is lexicographically lesser than Bob pubkey:\\n{alice_funding_pubkey} < {bob_funding_pubkey}\")\n",
    "    pubkey1 = alice_funding_pubkey\n",
    "    pubkey2 = bob_funding_pubkey\n",
    "elif alice_funding_pubkey > bob_funding_pubkey:\n",
    "    print(f\"Alice pubkey is lexicographically greater than Bob pubkey:\\n{alice_funding_pubkey} > {bob_funding_pubkey}\")\n",
    "    pubkey2 = alice_funding_pubkey\n",
    "    pubkey1 = bob_funding_pubkey\n",
    "else:\n",
    "    print(\"Error: the public keys are equal.\")\n",
    "\n",
    "# Redeem Script: 2 <pubkey1> <pubkey2> 2 OP_CHECKMULTISIG\n",
    "# \"21\" is the length of a 33 bytes (compressed) pubkey in hex notation\n",
    "redeemScript = bytes.fromhex(\n",
    "    \"52\" \n",
    "    + \"21\"\n",
    "    + pubkey1\n",
    "    + \"21\"\n",
    "    + pubkey2\n",
    "    + \"52\"\n",
    "    + \"ae\")\n",
    "\n",
    "print(f\"Redeem Script:\\n{redeemScript.hex()}\")"
   ]
  },
  {
   "cell_type": "markdown",
   "id": "5440eb39-1825-41f4-b2da-c43b9a983a32",
   "metadata": {},
   "source": [
    "### Convert the Redeem Script to a P2WSH address\n",
    "\n",
    "For more on this step, review the 'Addresses' notebook."
   ]
  },
  {
   "cell_type": "code",
   "execution_count": 6,
   "id": "37e6a104-3101-4273-a4ea-7c9bf3035cd8",
   "metadata": {},
   "outputs": [
    {
     "name": "stdout",
     "output_type": "stream",
     "text": [
      "channel_address:  bcrt1qt85jxm39pf3mkcjm6jfuafcfpfmycc3x2ak85ru348easj5s0hgsy00smf\n"
     ]
    }
   ],
   "source": [
    "channel_address = script_to_p2wsh(redeemScript, \"regtest\")\n",
    "print(\"channel_address: \",channel_address)"
   ]
  },
  {
   "cell_type": "markdown",
   "id": "a5200406-8ff2-470e-9729-8964fc6db849",
   "metadata": {},
   "source": [
    "### Create an unsigned channel funding transaction\n",
    "\n",
    "The first thing we'll do is define the inputs and outputs of our funding transaction."
   ]
  },
  {
   "cell_type": "code",
   "execution_count": 8,
   "id": "a73eaef4-7f07-403b-803d-ed7e4a08d262",
   "metadata": {},
   "outputs": [],
   "source": [
    "# Note we have already defined a few variables we need to create our transaction:\n",
    "# The input utxo txid and index: `txid_to_spend` and `index_to_spend`\n",
    "# The input private key and public key: `alice_funding_privkey` and `alice_funding_pubkey`\n",
    "\n",
    "# Our outputs\n",
    "# Determine our output scriptPubkeys and amounts (in satoshis)\n",
    "# Output1 is the Alice Change P2WPKH\n",
    "output1_value_sat = int(float(\"0.15\") * 100000000)\n",
    "pk_hash = hash160(bytes.fromhex(alice_change_pubkey))\n",
    "output1_spk = bytes.fromhex(\"0014\") + pk_hash\n",
    "# Output2 is the Channel P2WSH\n",
    "output2_value_sat = int(float(\"0.05\") * 100000000)\n",
    "script_hash = hashlib.sha256(redeemScript).digest()\n",
    "output2_spk = bytes.fromhex(\"0020\") + script_hash\n",
    "# The Alice UTXO was 0.201, we are leaving 0.001 as the fee of the funding trransaction"
   ]
  },
  {
   "cell_type": "markdown",
   "id": "ccfcef05-aeaa-4c87-b294-bbf92138bdb2",
   "metadata": {},
   "source": [
    "Now that we've defined everything we need, we can fill in the fields we need to create our unsigned transaction. What makes a transaction 'unsigned' is that the witness field is empty."
   ]
  },
  {
   "cell_type": "code",
   "execution_count": 9,
   "id": "6823308b-e949-4715-9705-84ed9ebcd919",
   "metadata": {},
   "outputs": [
    {
     "name": "stdout",
     "output_type": "stream",
     "text": [
      "unsigned_tx:  0200000001ce110bbbb6a0a698b646b62850ebebad00b5840ea4f5d65a4bf2cafe56e5b6fd0000000000ffffffff02c0e1e400000000001600140c7629ba750aee7d5830cdc8c9429aae1f0dffa6404b4c000000000022002059e9236e250a63bb625bd493cea7090a764c6226576c7a0f91a9f3d84a907dd100000000\n"
     ]
    }
   ],
   "source": [
    "# VERSION\n",
    "# version '2' indicates that we may use relative timelocks (BIP68)\n",
    "version = bytes.fromhex(\"0200 0000\")\n",
    "\n",
    "# MARKER\n",
    "marker = bytes.fromhex(\"00\")\n",
    "\n",
    "# FLAG\n",
    "flag = bytes.fromhex(\"01\")\n",
    "\n",
    "# INPUTS\n",
    "# We have just 1 input\n",
    "input_count = bytes.fromhex(\"01\")\n",
    "\n",
    "# Convert txid and index to bytes (little endian)\n",
    "txid = (bytes.fromhex(txid_to_spend))[::-1]\n",
    "index = index_to_spend.to_bytes(4, byteorder=\"little\", signed=False)\n",
    "\n",
    "# For the unsigned transaction we use an empty scriptSig\n",
    "scriptsig = bytes.fromhex(\"\")\n",
    "\n",
    "# use 0xffffffff unless you are using OP_CHECKSEQUENCEVERIFY, locktime, or rbf\n",
    "sequence = bytes.fromhex(\"ffff ffff\")\n",
    "\n",
    "inputs = (\n",
    "    txid\n",
    "    + index\n",
    "    + varint_len(scriptsig)\n",
    "    + scriptsig\n",
    "    + sequence\n",
    ")\n",
    "\n",
    "# OUTPUTS\n",
    "# 0x02 for out two outputs\n",
    "output_count = bytes.fromhex(\"02\")\n",
    "\n",
    "# OUTPUT 1 \n",
    "output1_value = output1_value_sat.to_bytes(8, byteorder=\"little\", signed=True)\n",
    "# 'output1_spk' already defined at the start of the script\n",
    "\n",
    "# OUTPUT 2\n",
    "output2_value = output2_value_sat.to_bytes(8, byteorder=\"little\", signed=True)\n",
    "# 'output2_spk' already defined at the start of the script\n",
    "\n",
    "outputs = (\n",
    "    output1_value\n",
    "    + varint_len(output1_spk)\n",
    "    + output1_spk\n",
    "    + output2_value\n",
    "    + varint_len(output2_spk)\n",
    "    + output2_spk\n",
    ")\n",
    "\n",
    "# LOCKTIME\n",
    "locktime = bytes.fromhex(\"0000 0000\")\n",
    "\n",
    "unsigned_tx = (\n",
    "    version\n",
    "    + input_count\n",
    "    + inputs\n",
    "    + output_count\n",
    "    + outputs\n",
    "    + locktime\n",
    ")\n",
    "\n",
    "print(\"unsigned_tx: \", unsigned_tx.hex())\n",
    "\n"
   ]
  },
  {
   "cell_type": "markdown",
   "id": "4989d85d-f7b9-444e-905b-6431a8bd6f8c",
   "metadata": {},
   "source": [
    "We can decode this raw transaction to inspect it and see that it has all the information we need apart from the segwit fields (version, marker, and witness)."
   ]
  },
  {
   "cell_type": "code",
   "execution_count": 10,
   "id": "238b067c-4ee0-4595-8c9b-849046fd0be4",
   "metadata": {},
   "outputs": [
    {
     "name": "stdout",
     "output_type": "stream",
     "text": [
      "{\n",
      "  \"txid\": \"2f72dcb63ff1f44b02f0f27218f68b694787d2dc8fd8a16ced438be850c9264e\",\n",
      "  \"hash\": \"2f72dcb63ff1f44b02f0f27218f68b694787d2dc8fd8a16ced438be850c9264e\",\n",
      "  \"version\": 2,\n",
      "  \"size\": 125,\n",
      "  \"vsize\": 125,\n",
      "  \"weight\": 500,\n",
      "  \"locktime\": 0,\n",
      "  \"vin\": [\n",
      "    {\n",
      "      \"txid\": \"fdb6e556fecaf24b5ad6f5a40e84b500adebeb5028b646b698a6a0b6bb0b11ce\",\n",
      "      \"vout\": 0,\n",
      "      \"scriptSig\": {\n",
      "        \"asm\": \"\",\n",
      "        \"hex\": \"\"\n",
      "      },\n",
      "      \"sequence\": 4294967295\n",
      "    }\n",
      "  ],\n",
      "  \"vout\": [\n",
      "    {\n",
      "      \"value\": \"0.15000000\",\n",
      "      \"n\": 0,\n",
      "      \"scriptPubKey\": {\n",
      "        \"asm\": \"0 0c7629ba750aee7d5830cdc8c9429aae1f0dffa6\",\n",
      "        \"desc\": \"addr(bcrt1qp3mznwn4pth86kpsehyvjs564c0smlaxfzt480)#4p3u8rdy\",\n",
      "        \"hex\": \"00140c7629ba750aee7d5830cdc8c9429aae1f0dffa6\",\n",
      "        \"address\": \"bcrt1qp3mznwn4pth86kpsehyvjs564c0smlaxfzt480\",\n",
      "        \"type\": \"witness_v0_keyhash\"\n",
      "      }\n",
      "    },\n",
      "    {\n",
      "      \"value\": \"0.05000000\",\n",
      "      \"n\": 1,\n",
      "      \"scriptPubKey\": {\n",
      "        \"asm\": \"0 59e9236e250a63bb625bd493cea7090a764c6226576c7a0f91a9f3d84a907dd1\",\n",
      "        \"desc\": \"addr(bcrt1qt85jxm39pf3mkcjm6jfuafcfpfmycc3x2ak85ru348easj5s0hgsy00smf)#60934w4s\",\n",
      "        \"hex\": \"002059e9236e250a63bb625bd493cea7090a764c6226576c7a0f91a9f3d84a907dd1\",\n",
      "        \"address\": \"bcrt1qt85jxm39pf3mkcjm6jfuafcfpfmycc3x2ak85ru348easj5s0hgsy00smf\",\n",
      "        \"type\": \"witness_v0_scripthash\"\n",
      "      }\n",
      "    }\n",
      "  ]\n",
      "}\n"
     ]
    }
   ],
   "source": [
    "decoded = node.decoderawtransaction(unsigned_tx.hex())\n",
    "print(json.dumps(decoded, indent=2, default=str))"
   ]
  },
  {
   "cell_type": "markdown",
   "id": "46f94c47-213c-4738-a29b-d6f1f2593223",
   "metadata": {},
   "source": [
    "Segwit transactions have a signing scheme described in [BIP143](https://github.com/bitcoin/bips/blob/master/bip-0143.mediawiki)"
   ]
  },
  {
   "cell_type": "code",
   "execution_count": 11,
   "id": "ecb926cb-00d2-43ed-9be4-2844116f88d0",
   "metadata": {},
   "outputs": [
    {
     "name": "stdout",
     "output_type": "stream",
     "text": [
      "tx_digest_preimage:  02000000d64a5186def51ac35dfc18bf3f2179d3541027fcee8cbc7924c2f9f95dba8cb63bb13029ce7b1f559ef5e747fcac439f1455a2ec7c5f09b72290795e70665044ce110bbbb6a0a698b646b62850ebebad00b5840ea4f5d65a4bf2cafe56e5b6fd000000001976a914c823d90c2b37e0bad4616612d012ede011c2fd8288aca0b3320100000000ffffffff3c01a1765aeb3e56f5f7144aea757ea975733bfb53d23fc982ebb79c2553d0290000000001000000\n"
     ]
    }
   ],
   "source": [
    "pk_hash = hash160(bytes.fromhex(alice_funding_pubkey))\n",
    "scriptcode = bytes.fromhex(\"76a914\" + pk_hash.hex() + \"88ac\")\n",
    "\n",
    "input_amount_sat = int(0.201 * 100_000_000)\n",
    "value = input_amount_sat.to_bytes(8, byteorder=\"little\", signed=False)\n",
    "\n",
    "hashPrevOuts = hash256(txid + index)\n",
    "hashSequence = hash256(sequence)\n",
    "hashOutputs = hash256(outputs)\n",
    "sighash_type = bytes.fromhex(\"0100 0000\") # SIGHASH_ALL\n",
    "\n",
    "tx_digest_preimage = (\n",
    "    version\n",
    "    + hashPrevOuts\n",
    "    + hashSequence\n",
    "    + txid\n",
    "    + index\n",
    "    + varint_len(scriptcode)\n",
    "    + scriptcode\n",
    "    + value\n",
    "    + sequence\n",
    "    + hashOutputs\n",
    "    + locktime\n",
    "    + sighash_type\n",
    ")\n",
    "print(\"tx_digest_preimage: \",tx_digest_preimage.hex())"
   ]
  },
  {
   "cell_type": "markdown",
   "id": "628b07a1-a37b-4cb9-a7fe-c23683554f4d",
   "metadata": {},
   "source": [
    "Now we are ready to hash this transaction and produce an ecdsa signature on it.\n",
    "\n",
    "Before hashing the transaction with hash256, we append the sighash flag. In this example we'll use the most commonly used SIGHASH_ALL flag, meaning the signature guarantees the input will only be used in a transaction with these exact inputs and outputs.\n",
    "\n",
    "Note that when we append the sighash flag to the transaction, we use 4 bytes, however when we append the sighash flag to the end of the signature itself we only use 1 byte."
   ]
  },
  {
   "cell_type": "code",
   "execution_count": 13,
   "id": "b7b95644-9f14-4ce9-a536-e3dd87ee92ad",
   "metadata": {},
   "outputs": [
    {
     "name": "stdout",
     "output_type": "stream",
     "text": [
      "signed transaction:  02000000000101ce110bbbb6a0a698b646b62850ebebad00b5840ea4f5d65a4bf2cafe56e5b6fd0000000000ffffffff02c0e1e400000000001600140c7629ba750aee7d5830cdc8c9429aae1f0dffa6404b4c000000000022002059e9236e250a63bb625bd493cea7090a764c6226576c7a0f91a9f3d84a907dd102483045022100f32f79903eb7c743da86b1acd081e1207e30bac675ff48bd3cece0bbb25334e3022009418ae958da9422f14df3387ff01dec40098b36d5d7347c949840defeaf26ed0121028e3fe2292fbcf3d5dbe3ae8d6589022e5188e8e3045c2c817a8ef9f643246b0d00000000\n"
     ]
    }
   ],
   "source": [
    "# Create sigHash to be signed\n",
    "sighash = hash256(tx_digest_preimage)\n",
    "\n",
    "# Sign the sigHash with the input private key\n",
    "signing_key = ecdsa.SigningKey.from_string(bytes.fromhex(alice_funding_privkey), curve=ecdsa.SECP256k1) \n",
    "signature = signing_key.sign_digest(sighash, sigencode=ecdsa.util.sigencode_der_canonize)\n",
    "\n",
    "# Append SIGHASH_ALL to the signature\n",
    "signature = signature + bytes.fromhex(\"01\")\n",
    "\n",
    "# Witness field\n",
    "witness = (\n",
    "    # indicate the number of stack items for the txin\n",
    "    # 2 items for signature and pubkey\n",
    "    bytes.fromhex(\"02\")\n",
    "    + varint_len(signature)\n",
    "    + signature\n",
    "    + varint_len(bytes.fromhex(alice_funding_pubkey))\n",
    "    + bytes.fromhex(alice_funding_pubkey)\n",
    ")\n",
    "\n",
    "# the final signed transaction\n",
    "signed_tx = (\n",
    "    version\n",
    "    + marker\n",
    "    + flag\n",
    "    + input_count\n",
    "    + inputs # scriptsig left empty as espcified on BIP\n",
    "    + output_count\n",
    "    + outputs\n",
    "    + witness\n",
    "    + locktime\n",
    ")\n",
    "\n",
    "print(\"signed transaction: \",signed_tx.hex())"
   ]
  },
  {
   "cell_type": "markdown",
   "id": "072d1591-a71e-42d2-806d-3d563b8a3b3f",
   "metadata": {},
   "source": [
    "### The funding_created Message\n",
    "Now Alice can send Bob the [`funding_created`](https://github.com/lightning/bolts/blob/master/02-peer-protocol.md#the-funding_created-message) message with the following information from the channel funding transaction:\n",
    "- funding_txid\n",
    "- funding_output_index\n",
    "- signature\n",
    "\n",
    "This message describes the outpoint which Alice has created for the initial commitment transactions.\n",
    "\n",
    "Alice should never broadcast this funding transaction before having the Bob signature for the commitment transaction, otherwise she would have to trust Bob to get her funds back from the multisig UTXO. So let's got to the next [notebook](https://github.com/MPins/lightning-tx-tutorial/blob/master/Chapter%202%20-%20Commitment%20Transactions/Alice%20Commitment%20Transaction.ipynb) to see the commitment transactions construction in detail.\n",
    "\n",
    "To see if our funding transaction would have been accepted, we can use the testmempoolaccept command below.\n"
   ]
  },
  {
   "cell_type": "code",
   "execution_count": 14,
   "id": "4962fb77-8d5e-4e35-8fa7-3c97a986148f",
   "metadata": {},
   "outputs": [
    {
     "name": "stdout",
     "output_type": "stream",
     "text": [
      "[{'txid': '2f72dcb63ff1f44b02f0f27218f68b694787d2dc8fd8a16ced438be850c9264e', 'wtxid': '4f7c04001a3f5fb457b7c1cf07566e4680c7a538d874a8c2847e5de2fb905ef2', 'allowed': True, 'vsize': 153, 'fees': {'base': Decimal('0.00100000'), 'effective-feerate': Decimal('0.00653594'), 'effective-includes': ['4f7c04001a3f5fb457b7c1cf07566e4680c7a538d874a8c2847e5de2fb905ef2']}}]\n"
     ]
    }
   ],
   "source": [
    "result = node.testmempoolaccept(rawtxs=[signed_tx.hex()])\n",
    "print(result)"
   ]
  },
  {
   "cell_type": "code",
   "execution_count": null,
   "id": "af62c269-d74d-430b-98e4-fdcd42b4ad93",
   "metadata": {},
   "outputs": [],
   "source": []
  }
 ],
 "metadata": {
  "kernelspec": {
   "display_name": "Python 3 (ipykernel)",
   "language": "python",
   "name": "python3"
  },
  "language_info": {
   "codemirror_mode": {
    "name": "ipython",
    "version": 3
   },
   "file_extension": ".py",
   "mimetype": "text/x-python",
   "name": "python",
   "nbconvert_exporter": "python",
   "pygments_lexer": "ipython3",
   "version": "3.12.3"
  }
 },
 "nbformat": 4,
 "nbformat_minor": 5
}
