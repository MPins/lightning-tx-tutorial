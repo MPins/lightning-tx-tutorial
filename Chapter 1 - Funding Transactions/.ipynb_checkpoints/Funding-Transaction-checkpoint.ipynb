{
 "cells": [
  {
   "cell_type": "markdown",
   "id": "70ade43f-214e-4c6b-a3ea-eff5646df854",
   "metadata": {},
   "source": [
    "# Creating a Funding Transaction\n",
    "\n",
    "In this section we'll create a Lightning Channel funding transaction from scratch in python. We'll go through each part of the transaction, how it's constructed, signed, and the message the peers exchange to send and get the needed information from each other to make it happen. We'll test it using bitcoin core in regtest mode.\n",
    "\n",
    "## Prerequisite knowledge\n",
    "- For all notebooks:\n",
    "    - A high level understanding of the bitcoin. e.g. [Mastering Bitcoin](https://github.com/bitcoinbook/bitcoinbook) by Andreas Antonopoulos UTXO model, in particular [Chapter 6](https://github.com/bitcoinbook/bitcoinbook/blob/develop/ch06.asciidoc).\n",
    "    - A high level understanding of the Lightning Network. e.g. [Mastering Lightning](https://github.com/bitcoinbook/bitcoinbook) TODO Get the chapter to point it here\n",
    "    - A conceptual understanding of [hash functions](https://www.thesslstore.com/blog/what-is-a-hash-function-in-cryptography-a-beginners-guide).\n",
    "    - [Hexadecimal notation](https://inst.eecs.berkeley.edu/~cs61bl/r//cur/bits/decimal-binary-hex.html?topic=lab28.topic&step=2&course=) and [endianness](https://www.freecodecamp.org/news/what-is-endianness-big-endian-vs-little-endian/).\n",
    "\n",
    "- Specific to this notebook:\n",
    "    - SHA256, HASH256, HASH160 - '[Hash Functions chapter](https://github.com/MPins/lightning-tx-tutorial/blob/main/appendix/hash-functions.ipynb)'\n",
    "    - Bech32 addresses - '[Addresses chapter](https://github.com/MPins/lightning-tx-tutorial/blob/main/appendix/Addresses.ipynb)'\n",
    "    - Bitcoin Script basics - '[Bitcoin Script chapter](https://github.com/MPins/lightning-tx-tutorial/blob/main/appendix/Bitcoin%20Script.ipynb)'\n",
    "    - Lightning Network BOLT #2: '[Peer Protocol for Channel Management](https://github.com/lightning/bolts/blob/master/02-peer-protocol.md#channel-establishment-v1)'"
   ]
  },
  {
   "cell_type": "markdown",
   "id": "997345fc-359f-40ba-bb1f-4ccbbe6de230",
   "metadata": {},
   "source": [
    "## Channel Establishment v1\n",
    "\n",
    "The Basis of Lightning Technology ([BOLT](https://github.com/lightning/bolts/blob/master/00-introduction.md)) defines two pathways to create a channel, lets focus on the legacy one because most of the channels are created using it, and lets the 'Channel Establishment v2' for the following notebook.\n",
    "\n",
    "    +-----------+                              +---------+\n",
    "    |           |--(1)---  open_channel  ----->|         |\n",
    "    |           |<-(2)--  accept_channel  -----|         |\n",
    "    |           |                              |         |\n",
    "    |   Alice   |--(3)--  funding_created  --->|   Bob   |\n",
    "    |           |<-(4)--  funding_signed  -----|         |\n",
    "    |           |                              |         |\n",
    "    |           |--(5)---  channel_ready  ---->|         |\n",
    "    |           |<-(6)---  channel_ready  -----|         |\n",
    "    +-----------+                              +---------+\n",
    "\n",
    "    - where node Alice is 'funder' and node Bob is 'fundee'\n",
    "\n"
   ]
  },
  {
   "cell_type": "markdown",
   "id": "1440ebee-b6bd-418f-b6d1-6b05678e4ed8",
   "metadata": {},
   "source": [
    "Alice send the [`open_channel`](https://github.com/lightning/bolts/blob/master/02-peer-protocol.md#the-open_channel-message) message to Bob. This message define many channel operational criterias, here we are going to focus on the information that are used in the funding transaction:\n",
    "* chain_hash - denotes the exact blockchain that the opened channel will reside within.\n",
    "* funding_satoshis - is the amount the sender is putting into the channel\n",
    "* funding_pubkey - is the public key in the 2-of-2 multisig script of the funding transaction output.\n"
   ]
  },
  {
   "cell_type": "markdown",
   "id": "24f53eff-7007-482c-a8a2-c73dcbbef8f4",
   "metadata": {},
   "source": [
    "If Bob does not agree with the criterias sent into the `open_channel` message he send a [`error_message`](https://github.com/lightning/bolts/blob/master/01-messaging.md#the-error-and-warning-messages) back to Alice, otherwise he sends the [`accept_channel`](https://github.com/lightning/bolts/blob/master/02-peer-protocol.md#the-accept_channel-message) message, containing some operational criterias from your side, here we are going to focus on the information that are used in the funding transaction:\n",
    "* funding_pubkey - is the public key in the 2-of-2 multisig script of the funding transaction output."
   ]
  },
  {
   "cell_type": "markdown",
   "id": "69984fee-859e-4e0b-b653-439e3d7f0de5",
   "metadata": {},
   "source": [
    "## The Funding Transaction\n",
    "\n",
    "The funding transaction input could be one or more UTXOs from Alice (the funder) and the output arethea change to Alice and a P2WSH output (pay-to-witness-script-hash)<sup>[BIP141](https://github.com/bitcoin/bips/blob/master/bip-0141.mediawiki#witness-program)</sup> funding the channel, the order of the pubkeys on the output script is defined lexicographically, where pubkey1 is the lesser of the two funding_pubkey in compressed format and pubkey2 is the greater.\n",
    "\n",
    "`2 <pubkey1> <pubkey2> 2 OP_CHECKMULTISIG`"
   ]
  },
  {
   "cell_type": "markdown",
   "id": "44cfad1b-ad86-4d8f-8db1-dd877cc57f3a",
   "metadata": {},
   "source": [
    "## Setup \n",
    "\n",
    "### Requirements\n",
    "For this exercise we'll need Bitcoin Core. This notebook has been tested with [v24.0.1](https://github.com/bitcoin/bitcoin/releases/tag/v24.0.1).\n",
    "\n",
    "Below, set the paths for:\n",
    "1. The bitcoin core functional test framework directory.\n",
    "2. The directory containing lightning-tx-tutorial.\n",
    "\n",
    "**You'll need to edit these next two lines for your local setup.**"
   ]
  },
  {
   "cell_type": "code",
   "execution_count": 2,
   "id": "5b1ce9cb-5a55-4acc-a894-ce9cd4b2b58e",
   "metadata": {},
   "outputs": [],
   "source": [
    "path_to_bitcoin_functional_test = \"/home/pins-dev/Projects/bitcoin/test/functional\"\n",
    "path_to_bitcoin_tx_tutorial = \"/home/pins-dev/Projects/lightning-tx-tutorial\"\n",
    "\n",
    "import sys\n",
    "\n",
    "# Add the functional test framework to our PATH\n",
    "sys.path.insert(0, path_to_bitcoin_functional_test)\n",
    "from test_framework.test_shell import TestShell\n",
    "\n",
    "# Add the lightning-tx-tutorial functions to our PATH\n",
    "sys.path.insert(0, path_to_bitcoin_tx_tutorial)\n",
    "from functions import *\n",
    "\n",
    "import json"
   ]
  },
  {
   "cell_type": "markdown",
   "id": "1ce2c7e4-0081-418c-a35b-2f5c654ca6fa",
   "metadata": {},
   "source": [
    "### Create a P2WPKH UTXO\n",
    "\n",
    "In order to have Alice as funder of a channel we are going to create P2WPKH UTXO. To do that, we'll define a private key for Alice node and use it to generate a pubkey, then convert the pubkey to a p2wpkh address, we do the same process to create a change address (when you are running a lightning node, you would use wallet commands to derive addressess to use)."
   ]
  },
  {
   "cell_type": "code",
   "execution_count": 3,
   "id": "15d3aebd-89fd-4d89-84c8-6576dc1df3ad",
   "metadata": {},
   "outputs": [
    {
     "name": "stdout",
     "output_type": "stream",
     "text": [
      "Stored 'alice_funding_address' (str)\n",
      "Alice's pubkey: 037685b7e0a23a1b58540e6af6f60550e2ed6705e858817d92df23170a65e4a4c1\n",
      "Alice's funding p2wpkh address: bcrt1qk7k7fzan0wfn6tf3y4vylujlvcrs2s5v4d2ngm\n",
      "Alice's change p2wpkh address: bcrt1qhm34rrrhcntahx9cg8dzsgxeq9xymnkh8rgcrk\n"
     ]
    }
   ],
   "source": [
    "alice_funding_secret = \"alice_funding_secret\"\n",
    "alice_funding_privkey = sha256(bytes.fromhex(alice_funding_secret.encode(\"utf-8\").hex()))\n",
    "alice_funding_pubkey = privkey_to_pubkey(alice_funding_privkey)\n",
    "alice_funding_address = pk_to_p2wpkh(alice_funding_pubkey, network = \"regtest\")\n",
    "%store alice_funding_address\n",
    "print (f\"Alice's pubkey: {alice_funding_pubkey.hex()}\")\n",
    "print(\"Alice's funding p2wpkh address: \" + alice_funding_address)\n",
    "alice_change_secret = \"alice_change_secret\"\n",
    "alice_change_privkey = sha256(bytes.fromhex(alice_change_secret.encode(\"utf-8\").hex()))\n",
    "alice_change_pubkey = privkey_to_pubkey(alice_change_privkey)\n",
    "alice_change_address = pk_to_p2wpkh(alice_change_pubkey, network = \"regtest\")\n",
    "print(\"Alice's change p2wpkh address: \" + alice_change_address)"
   ]
  },
  {
   "cell_type": "markdown",
   "id": "17405964-ebeb-4837-8cb6-84e07f41e5e1",
   "metadata": {},
   "source": [
    " Finally we send 0.201 BTC to the alice funding address."
   ]
  },
  {
   "cell_type": "code",
   "execution_count": 4,
   "id": "009415f9-fce0-4b47-9aed-6a2f1bab2d9f",
   "metadata": {},
   "outputs": [
    {
     "name": "stdout",
     "output_type": "stream",
     "text": [
      "2024-12-29T22:36:46.078000Z TestFramework (INFO): PRNG seed is: 5842535605602723617\n",
      "2024-12-29T22:36:46.081000Z TestFramework (INFO): Initializing test directory /tmp/bitcoin_func_test_0lghup4g\n",
      "txid: fc7e042b1440f57759995b6215d0755355d055ac175573e865b5b550f9030236, 1\n"
     ]
    }
   ],
   "source": [
    "node = setup_testshell()\n",
    "txid_to_spend, index_to_spend = fund_address(node, alice_funding_address, 0.201)\n",
    "print(f\"txid: {txid_to_spend}, {index_to_spend}\")"
   ]
  },
  {
   "cell_type": "markdown",
   "id": "473ec2d5-ae09-4a06-abc8-40a7322783aa",
   "metadata": {},
   "source": [
    "At this moment Alice would send Bob the `open_channel` message and Bob would answer with `accept_channel` message containing its pubkey.So lets' create below the Bob's pubkey."
   ]
  },
  {
   "cell_type": "code",
   "execution_count": 5,
   "id": "7bfe444a-1a8f-4c41-827f-db05cad2ed92",
   "metadata": {},
   "outputs": [
    {
     "name": "stdout",
     "output_type": "stream",
     "text": [
      "Bob's pubkey: 03e81dfa1a26011178a4c5e8a704e5909015a51558deb011c43d98fd94c63b1223\n"
     ]
    }
   ],
   "source": [
    "bob_funding_secret = \"bob_funding_secret\"\n",
    "bob_funding_privkey = sha256(bytes.fromhex(bob_funding_secret.encode(\"utf-8\").hex()))\n",
    "bob_funding_pubkey = privkey_to_pubkey(bob_funding_privkey)\n",
    "print (f\"Bob's pubkey: {bob_funding_pubkey.hex()}\")"
   ]
  },
  {
   "cell_type": "markdown",
   "id": "967aa175-387b-407a-8de2-e629132461cc",
   "metadata": {},
   "source": [
    "### Create the Channel P2WSH multisig script\n",
    "\n",
    "In order to create the channel funding transaction, we are going to create the 2 of 2 multisig script.\n",
    "\n",
    "For more on this step, review the 'Bitcoin Script' notebook."
   ]
  },
  {
   "cell_type": "code",
   "execution_count": 6,
   "id": "6e989e07-63cd-4b48-8bbc-7cce886883b1",
   "metadata": {},
   "outputs": [
    {
     "name": "stdout",
     "output_type": "stream",
     "text": [
      "Alice pubkey is lexicographically lesser than Bob pubkey:\n",
      "037685b7e0a23a1b58540e6af6f60550e2ed6705e858817d92df23170a65e4a4c1 < 03e81dfa1a26011178a4c5e8a704e5909015a51558deb011c43d98fd94c63b1223\n",
      "Redeem Script:\n",
      "5221037685b7e0a23a1b58540e6af6f60550e2ed6705e858817d92df23170a65e4a4c12103e81dfa1a26011178a4c5e8a704e5909015a51558deb011c43d98fd94c63b122352ae\n"
     ]
    }
   ],
   "source": [
    "# Compare the public keys lexicographically\n",
    "if alice_funding_pubkey < bob_funding_pubkey:\n",
    "    print(f\"Alice pubkey is lexicographically lesser than Bob pubkey:\\n{alice_funding_pubkey.hex()} < {bob_funding_pubkey.hex()}\")\n",
    "    pubkey1 = alice_funding_pubkey\n",
    "    pubkey2 = bob_funding_pubkey\n",
    "elif alice_funding_pubkey > bob_funding_pubkey:\n",
    "    print(f\"Alice pubkey is lexicographically greater than Bob pubkey:\\n{alice_funding_pubkey.hex()} > {bob_funding_pubkey.hex()}\")\n",
    "    pubkey2 = alice_funding_pubkey\n",
    "    pubkey1 = bob_funding_pubkey\n",
    "else:\n",
    "    print(\"Error: the public keys are equal.\")\n",
    "\n",
    "# Redeem Script: 2 <pubkey1> <pubkey2> 2 OP_CHECKMULTISIG\n",
    "# \"21\" is the length of a 33 bytes (compressed) pubkey in hex notation\n",
    "redeemScript = bytes.fromhex(\n",
    "    \"52\" \n",
    "    + \"21\"\n",
    "    + pubkey1.hex()\n",
    "    + \"21\"\n",
    "    + pubkey2.hex()\n",
    "    + \"52\"\n",
    "    + \"ae\")\n",
    "\n",
    "print(f\"Redeem Script:\\n{redeemScript.hex()}\")"
   ]
  },
  {
   "cell_type": "markdown",
   "id": "5440eb39-1825-41f4-b2da-c43b9a983a32",
   "metadata": {},
   "source": [
    "### Convert the Redeem Script to a P2WSH address\n",
    "\n",
    "For more on this step, review the 'Addresses' notebook."
   ]
  },
  {
   "cell_type": "code",
   "execution_count": 7,
   "id": "37e6a104-3101-4273-a4ea-7c9bf3035cd8",
   "metadata": {},
   "outputs": [
    {
     "name": "stdout",
     "output_type": "stream",
     "text": [
      "bcrt1qg7zgfcvz9eneugzh9df8gc2wek3rfyf3t3vjuw06q8d7jtz7h5eqdjlj5l\n"
     ]
    }
   ],
   "source": [
    "channel_address = script_to_p2wsh(redeemScript, \"regtest\")\n",
    "print(channel_address)"
   ]
  },
  {
   "cell_type": "markdown",
   "id": "a5200406-8ff2-470e-9729-8964fc6db849",
   "metadata": {},
   "source": [
    "### Create an unsigned channel funding transaction\n",
    "\n",
    "The first thing we'll do is define the inputs and outputs of our funding transaction."
   ]
  },
  {
   "cell_type": "code",
   "execution_count": 8,
   "id": "a73eaef4-7f07-403b-803d-ed7e4a08d262",
   "metadata": {},
   "outputs": [],
   "source": [
    "# Note we have already defined a few variables we need to create our transaction:\n",
    "# The input utxo txid and index: `txid_to_spend` and `index_to_spend`\n",
    "# The input private key and public key: `alice_funding_privkey` and `alice_funding_pubkey`\n",
    "\n",
    "# Our outputs\n",
    "# Determine our output scriptPubkeys and amounts (in satoshis)\n",
    "# Output1 is the Alice Change P2WPKH\n",
    "output1_value_sat = int(float(\"0.15\") * 100000000)\n",
    "pk_hash = hash160(alice_change_pubkey)\n",
    "output1_spk = bytes.fromhex(\"0014\") + pk_hash\n",
    "# Output2 is the Channel P2WSH\n",
    "output2_value_sat = int(float(\"0.05\") * 100000000)\n",
    "script_hash = hashlib.sha256(redeemScript).digest()\n",
    "output2_spk = bytes.fromhex(\"0020\") + script_hash\n",
    "# The Alice UTXO was 0.201, we are leaving 0.001 as the fee of the funding trransaction"
   ]
  },
  {
   "cell_type": "markdown",
   "id": "ccfcef05-aeaa-4c87-b294-bbf92138bdb2",
   "metadata": {},
   "source": [
    "Now that we've defined everything we need, we can fill in the fields we need to create our unsigned transaction. What makes a transaction 'unsigned' is that the witness field is empty."
   ]
  },
  {
   "cell_type": "code",
   "execution_count": 9,
   "id": "6823308b-e949-4715-9705-84ed9ebcd919",
   "metadata": {},
   "outputs": [
    {
     "name": "stdout",
     "output_type": "stream",
     "text": [
      "unsigned_tx:  0200000001360203f950b5b565e8735517ac55d0555375d015625b995977f540142b047efc0100000000ffffffff02c0e1e40000000000160014bee3518c77c4d7db98b841da2820d9014c4dced7404b4c0000000000220020478484e1822e679e20572b5274614ecda23491315c592e39fa01dbe92c5ebd3200000000\n"
     ]
    }
   ],
   "source": [
    "# VERSION\n",
    "# version '2' indicates that we may use relative timelocks (BIP68)\n",
    "version = bytes.fromhex(\"0200 0000\")\n",
    "\n",
    "# MARKER\n",
    "marker = bytes.fromhex(\"00\")\n",
    "\n",
    "# FLAG\n",
    "flag = bytes.fromhex(\"01\")\n",
    "\n",
    "# INPUTS\n",
    "# We have just 1 input\n",
    "input_count = bytes.fromhex(\"01\")\n",
    "\n",
    "# Convert txid and index to bytes (little endian)\n",
    "txid = (bytes.fromhex(txid_to_spend))[::-1]\n",
    "index = index_to_spend.to_bytes(4, byteorder=\"little\", signed=False)\n",
    "\n",
    "# For the unsigned transaction we use an empty scriptSig\n",
    "scriptsig = bytes.fromhex(\"\")\n",
    "\n",
    "# use 0xffffffff unless you are using OP_CHECKSEQUENCEVERIFY, locktime, or rbf\n",
    "sequence = bytes.fromhex(\"ffff ffff\")\n",
    "\n",
    "inputs = (\n",
    "    txid\n",
    "    + index\n",
    "    + varint_len(scriptsig)\n",
    "    + scriptsig\n",
    "    + sequence\n",
    ")\n",
    "\n",
    "# OUTPUTS\n",
    "# 0x02 for out two outputs\n",
    "output_count = bytes.fromhex(\"02\")\n",
    "\n",
    "# OUTPUT 1 \n",
    "output1_value = output1_value_sat.to_bytes(8, byteorder=\"little\", signed=True)\n",
    "# 'output1_spk' already defined at the start of the script\n",
    "\n",
    "# OUTPUT 2\n",
    "output2_value = output2_value_sat.to_bytes(8, byteorder=\"little\", signed=True)\n",
    "# 'output2_spk' already defined at the start of the script\n",
    "\n",
    "outputs = (\n",
    "    output1_value\n",
    "    + varint_len(output1_spk)\n",
    "    + output1_spk\n",
    "    + output2_value\n",
    "    + varint_len(output2_spk)\n",
    "    + output2_spk\n",
    ")\n",
    "\n",
    "# LOCKTIME\n",
    "locktime = bytes.fromhex(\"0000 0000\")\n",
    "\n",
    "unsigned_tx = (\n",
    "    version\n",
    "    + input_count\n",
    "    + inputs\n",
    "    + output_count\n",
    "    + outputs\n",
    "    + locktime\n",
    ")\n",
    "\n",
    "print(\"unsigned_tx: \", unsigned_tx.hex())\n",
    "\n"
   ]
  },
  {
   "cell_type": "markdown",
   "id": "4989d85d-f7b9-444e-905b-6431a8bd6f8c",
   "metadata": {},
   "source": [
    "We can decode this raw transaction to inspect it and see that it has all the information we need apart from the segwit fields (version, marker, and witness)."
   ]
  },
  {
   "cell_type": "code",
   "execution_count": 10,
   "id": "238b067c-4ee0-4595-8c9b-849046fd0be4",
   "metadata": {},
   "outputs": [
    {
     "name": "stdout",
     "output_type": "stream",
     "text": [
      "{\n",
      "  \"txid\": \"13abef16e9d699c0a397841071423f91b9d4b2bdfc17f056382305121deeff8d\",\n",
      "  \"hash\": \"13abef16e9d699c0a397841071423f91b9d4b2bdfc17f056382305121deeff8d\",\n",
      "  \"version\": 2,\n",
      "  \"size\": 125,\n",
      "  \"vsize\": 125,\n",
      "  \"weight\": 500,\n",
      "  \"locktime\": 0,\n",
      "  \"vin\": [\n",
      "    {\n",
      "      \"txid\": \"fc7e042b1440f57759995b6215d0755355d055ac175573e865b5b550f9030236\",\n",
      "      \"vout\": 1,\n",
      "      \"scriptSig\": {\n",
      "        \"asm\": \"\",\n",
      "        \"hex\": \"\"\n",
      "      },\n",
      "      \"sequence\": 4294967295\n",
      "    }\n",
      "  ],\n",
      "  \"vout\": [\n",
      "    {\n",
      "      \"value\": \"0.15000000\",\n",
      "      \"n\": 0,\n",
      "      \"scriptPubKey\": {\n",
      "        \"asm\": \"0 bee3518c77c4d7db98b841da2820d9014c4dced7\",\n",
      "        \"desc\": \"addr(bcrt1qhm34rrrhcntahx9cg8dzsgxeq9xymnkh8rgcrk)#va63jkv7\",\n",
      "        \"hex\": \"0014bee3518c77c4d7db98b841da2820d9014c4dced7\",\n",
      "        \"address\": \"bcrt1qhm34rrrhcntahx9cg8dzsgxeq9xymnkh8rgcrk\",\n",
      "        \"type\": \"witness_v0_keyhash\"\n",
      "      }\n",
      "    },\n",
      "    {\n",
      "      \"value\": \"0.05000000\",\n",
      "      \"n\": 1,\n",
      "      \"scriptPubKey\": {\n",
      "        \"asm\": \"0 478484e1822e679e20572b5274614ecda23491315c592e39fa01dbe92c5ebd32\",\n",
      "        \"desc\": \"addr(bcrt1qg7zgfcvz9eneugzh9df8gc2wek3rfyf3t3vjuw06q8d7jtz7h5eqdjlj5l)#ry0jtllc\",\n",
      "        \"hex\": \"0020478484e1822e679e20572b5274614ecda23491315c592e39fa01dbe92c5ebd32\",\n",
      "        \"address\": \"bcrt1qg7zgfcvz9eneugzh9df8gc2wek3rfyf3t3vjuw06q8d7jtz7h5eqdjlj5l\",\n",
      "        \"type\": \"witness_v0_scripthash\"\n",
      "      }\n",
      "    }\n",
      "  ]\n",
      "}\n"
     ]
    }
   ],
   "source": [
    "decoded = node.decoderawtransaction(unsigned_tx.hex())\n",
    "print(json.dumps(decoded, indent=2, default=str))"
   ]
  },
  {
   "cell_type": "markdown",
   "id": "46f94c47-213c-4738-a29b-d6f1f2593223",
   "metadata": {},
   "source": [
    "Segwit transactions have a signing scheme described in [BIP143](https://github.com/bitcoin/bips/blob/master/bip-0143.mediawiki)"
   ]
  },
  {
   "cell_type": "code",
   "execution_count": 11,
   "id": "ecb926cb-00d2-43ed-9be4-2844116f88d0",
   "metadata": {},
   "outputs": [
    {
     "name": "stdout",
     "output_type": "stream",
     "text": [
      "02000000c1fe6747822cbae058031cb2c6a9477b2ff1ff411af676f09c30e62801d017753bb13029ce7b1f559ef5e747fcac439f1455a2ec7c5f09b72290795e70665044360203f950b5b565e8735517ac55d0555375d015625b995977f540142b047efc010000001976a914b7ade48bb37b933d2d3125584ff25f660705428c88aca0b3320100000000ffffffff51866cfa9f65fdad1ed67d665903fa1d186e8408b49b05f10d00723c9904856e0000000001000000\n"
     ]
    }
   ],
   "source": [
    "pk_hash = hash160(alice_funding_pubkey)\n",
    "scriptcode = bytes.fromhex(\"76a914\" + pk_hash.hex() + \"88ac\")\n",
    "\n",
    "input_amount_sat = int(0.201 * 100_000_000)\n",
    "value = input_amount_sat.to_bytes(8, byteorder=\"little\", signed=False)\n",
    "\n",
    "hashPrevOuts = hash256(txid + index)\n",
    "hashSequence = hash256(sequence)\n",
    "hashOutputs = hash256(outputs)\n",
    "sighash_type = bytes.fromhex(\"0100 0000\") # SIGHASH_ALL\n",
    "\n",
    "tx_digest_preimage = (\n",
    "    version\n",
    "    + hashPrevOuts\n",
    "    + hashSequence\n",
    "    + txid\n",
    "    + index\n",
    "    + varint_len(scriptcode)\n",
    "    + scriptcode\n",
    "    + value\n",
    "    + sequence\n",
    "    + hashOutputs\n",
    "    + locktime\n",
    "    + sighash_type\n",
    ")\n",
    "print(tx_digest_preimage.hex())"
   ]
  },
  {
   "cell_type": "markdown",
   "id": "628b07a1-a37b-4cb9-a7fe-c23683554f4d",
   "metadata": {},
   "source": [
    "Now we are ready to hash this transaction and produce an ecdsa signature on it.\n",
    "\n",
    "Before hashing the transaction with hash256, we append the sighash flag. In this example we'll use the most commonly used SIGHASH_ALL flag, meaning the signature guarantees the input will only be used in a transaction with these exact inputs and outputs.\n",
    "\n",
    "Note that when we append the sighash flag to the transaction, we use 4 bytes, however when we append the sighash flag to the end of the signature itself we only use 1 byte."
   ]
  },
  {
   "cell_type": "code",
   "execution_count": 13,
   "id": "b7b95644-9f14-4ce9-a536-e3dd87ee92ad",
   "metadata": {},
   "outputs": [
    {
     "name": "stdout",
     "output_type": "stream",
     "text": [
      "signed transaction:  02000000000101360203f950b5b565e8735517ac55d0555375d015625b995977f540142b047efc0100000000ffffffff02c0e1e40000000000160014bee3518c77c4d7db98b841da2820d9014c4dced7404b4c0000000000220020478484e1822e679e20572b5274614ecda23491315c592e39fa01dbe92c5ebd3202483045022100cb42d5c67022cc0f9a464bc73ef12af9993c849442a2c4b7083f00ca6e2bfc3b022037f55caebd8d0be7e496dc6f61cfc7a5be6a6f7c8299321549a34795a0ff95920121037685b7e0a23a1b58540e6af6f60550e2ed6705e858817d92df23170a65e4a4c100000000\n",
      "Stored 'signed_tx' (bytes)\n"
     ]
    },
    {
     "ename": "TypeError",
     "evalue": "cannot pickle '_thread.lock' object",
     "output_type": "error",
     "traceback": [
      "\u001b[0;31m---------------------------------------------------------------------------\u001b[0m",
      "\u001b[0;31mTypeError\u001b[0m                                 Traceback (most recent call last)",
      "Cell \u001b[0;32mIn[13], line 40\u001b[0m\n\u001b[1;32m     38\u001b[0m \u001b[38;5;28;01mimport\u001b[39;00m \u001b[38;5;21;01mpickle\u001b[39;00m\n\u001b[1;32m     39\u001b[0m \u001b[38;5;28;01mwith\u001b[39;00m \u001b[38;5;28mopen\u001b[39m(\u001b[38;5;124m'\u001b[39m\u001b[38;5;124mnode_state.pkl\u001b[39m\u001b[38;5;124m'\u001b[39m, \u001b[38;5;124m'\u001b[39m\u001b[38;5;124mwb\u001b[39m\u001b[38;5;124m'\u001b[39m) \u001b[38;5;28;01mas\u001b[39;00m f:\n\u001b[0;32m---> 40\u001b[0m     \u001b[43mpickle\u001b[49m\u001b[38;5;241;43m.\u001b[39;49m\u001b[43mdump\u001b[49m\u001b[43m(\u001b[49m\u001b[43mnode\u001b[49m\u001b[43m,\u001b[49m\u001b[43m \u001b[49m\u001b[43mf\u001b[49m\u001b[43m)\u001b[49m\n\u001b[1;32m     41\u001b[0m \u001b[38;5;66;03m#pip install pickleshare\u001b[39;00m\n",
      "\u001b[0;31mTypeError\u001b[0m: cannot pickle '_thread.lock' object"
     ]
    }
   ],
   "source": [
    "# Create sigHash to be signed\n",
    "sighash = hash256(tx_digest_preimage)\n",
    "\n",
    "# Sign the sigHash with the input private key\n",
    "signing_key = ecdsa.SigningKey.from_string(alice_funding_privkey, curve=ecdsa.SECP256k1) \n",
    "signature = signing_key.sign_digest(sighash, sigencode=ecdsa.util.sigencode_der_canonize)\n",
    "\n",
    "# Append SIGHASH_ALL to the signature\n",
    "signature = signature + bytes.fromhex(\"01\")\n",
    "\n",
    "# Witness field\n",
    "witness = (\n",
    "    # indicate the number of stack items for the txin\n",
    "    # 2 items for signature and pubkey\n",
    "    bytes.fromhex(\"02\")\n",
    "    + varint_len(signature)\n",
    "    + signature\n",
    "    + varint_len(alice_funding_pubkey)\n",
    "    + alice_funding_pubkey\n",
    ")\n",
    "\n",
    "# the final signed transaction\n",
    "signed_tx = (\n",
    "    version\n",
    "    + marker\n",
    "    + flag\n",
    "    + input_count\n",
    "    + inputs # scriptsig left empty as espcified on BIP\n",
    "    + output_count\n",
    "    + outputs\n",
    "    + witness\n",
    "    + locktime\n",
    ")\n",
    "\n",
    "print(\"signed transaction: \",signed_tx.hex())\n",
    "\n",
    "%store signed_tx\n",
    "import pickle\n",
    "#pip install pickleshare"
   ]
  },
  {
   "cell_type": "markdown",
   "id": "072d1591-a71e-42d2-806d-3d563b8a3b3f",
   "metadata": {},
   "source": [
    "### Broadcast the transaction\n",
    "\n",
    "To see if the transaction would have been accepted, but without broadcasting it, we can use the testmempoolaccept command.\n",
    "\n",
    "Alice should never broadcast this funding transaction before having its commitment transaction signed by Bob, otherwise she would have to trust Bob to unlock its funds from the multisig address. So let's got to the next [notebook](https://github.com/MPins/lightning-tx-tutorial/blob/master/Chapter%202%20-%20Commitment%20Transactions/Alice%20Commitment%20Transaction.ipynb) to see a commitment transaction construction in detail."
   ]
  },
  {
   "cell_type": "code",
   "execution_count": 13,
   "id": "4962fb77-8d5e-4e35-8fa7-3c97a986148f",
   "metadata": {},
   "outputs": [
    {
     "name": "stdout",
     "output_type": "stream",
     "text": [
      "[{'txid': '4b691c951a383a808aa836cbb4d03d6b1e1ba77370aea5613c16a4485ab17f61', 'wtxid': '77e88da4b08ea6be6db3ca5f803a585c20ca6719ab14ac165fbad31681cb3e01', 'allowed': True, 'vsize': 153, 'fees': {'base': Decimal('0.00100000'), 'effective-feerate': Decimal('0.00653594'), 'effective-includes': ['77e88da4b08ea6be6db3ca5f803a585c20ca6719ab14ac165fbad31681cb3e01']}}]\n"
     ]
    }
   ],
   "source": [
    "result = node.testmempoolaccept(rawtxs=[signed_tx.hex()])\n",
    "print(result)"
   ]
  },
  {
   "cell_type": "code",
   "execution_count": null,
   "id": "ff11a514-6081-4908-a3fb-a995c2a4dcb8",
   "metadata": {},
   "outputs": [],
   "source": []
  }
 ],
 "metadata": {
  "kernelspec": {
   "display_name": "Python 3 (ipykernel)",
   "language": "python",
   "name": "python3"
  },
  "language_info": {
   "codemirror_mode": {
    "name": "ipython",
    "version": 3
   },
   "file_extension": ".py",
   "mimetype": "text/x-python",
   "name": "python",
   "nbconvert_exporter": "python",
   "pygments_lexer": "ipython3",
   "version": "3.12.3"
  }
 },
 "nbformat": 4,
 "nbformat_minor": 5
}
