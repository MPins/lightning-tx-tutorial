{
 "cells": [
  {
   "cell_type": "markdown",
   "id": "70ade43f-214e-4c6b-a3ea-eff5646df854",
   "metadata": {},
   "source": [
    "# Creating a Funding Transaction\n",
    "\n",
    "In this section we'll create a Lightning Channel funding transaction from scratch in python. We'll go through each part of the transaction, how it's constructed, signed, and the message the peers exchange to send and get the needed information from each other to make it happen. We'll test it using bitcoin core in regtest mode.\n",
    "\n",
    "## Prerequisite knowledge\n",
    "- For all notebooks:\n",
    "    - A high level understanding of the bitcoin. e.g. [Mastering Bitcoin](https://github.com/bitcoinbook/bitcoinbook) by Andreas Antonopoulos UTXO model, in particular [Chapter 6](https://github.com/bitcoinbook/bitcoinbook/blob/develop/ch06.asciidoc).\n",
    "    - A high level understanding of the Lightning Network. e.g. [Mastering Lightning](https://github.com/bitcoinbook/bitcoinbook) TODO Get the chapter to point it here\n",
    "    - A conceptual understanding of [hash functions](https://www.thesslstore.com/blog/what-is-a-hash-function-in-cryptography-a-beginners-guide).\n",
    "    - [Hexadecimal notation](https://inst.eecs.berkeley.edu/~cs61bl/r//cur/bits/decimal-binary-hex.html?topic=lab28.topic&step=2&course=) and [endianness](https://www.freecodecamp.org/news/what-is-endianness-big-endian-vs-little-endian/).\n",
    "\n",
    "- Specific to this notebook:\n",
    "    - SHA256, HASH256, HASH160 - '[Hash Functions chapter](https://github.com/MPins/lightning-tx-tutorial/blob/main/appendix/hash-functions.ipynb)'\n",
    "    - Bech32 addresses - '[Addresses chapter](https://github.com/MPins/lightning-tx-tutorial/blob/main/appendix/Addresses.ipynb)'\n",
    "    - Bitcoin Script basics - '[Bitcoin Script chapter](https://github.com/MPins/lightning-tx-tutorial/blob/main/appendix/Bitcoin%20Script.ipynb)'\n",
    "    - Lightning Network BOLT #2: '[Peer Protocol for Channel Management](https://github.com/lightning/bolts/blob/master/02-peer-protocol.md#channel-establishment-v1)'"
   ]
  },
  {
   "cell_type": "markdown",
   "id": "997345fc-359f-40ba-bb1f-4ccbbe6de230",
   "metadata": {},
   "source": [
    "## Channel Establishment v1\n",
    "\n",
    "These Basis of Lightning Technology ([BOLT](https://github.com/lightning/bolts/blob/master/00-introduction.md)) defines two pathways to create a channel, lets focus on the legacy one because most of the channels are created using it, and lets the 'Channel Establishment v2' for the following notebook.\n",
    "\n",
    "    +-----------+                              +---------+\n",
    "    |           |--(1)---  open_channel  ----->|         |\n",
    "    |           |<-(2)--  accept_channel  -----|         |\n",
    "    |           |                              |         |\n",
    "    |   Alice   |--(3)--  funding_created  --->|   Bob   |\n",
    "    |           |<-(4)--  funding_signed  -----|         |\n",
    "    |           |                              |         |\n",
    "    |           |--(5)---  channel_ready  ---->|         |\n",
    "    |           |<-(6)---  channel_ready  -----|         |\n",
    "    +-----------+                              +---------+\n",
    "\n",
    "    - where node Alice is 'funder' and node Bob is 'fundee'\n",
    "\n"
   ]
  },
  {
   "cell_type": "markdown",
   "id": "1440ebee-b6bd-418f-b6d1-6b05678e4ed8",
   "metadata": {},
   "source": [
    "Alice send the [`open_channel`](https://github.com/lightning/bolts/blob/master/02-peer-protocol.md#the-open_channel-message) message to Bob. This message define many channel operational criterias, here we are going to focus on the information that are used in the funding transaction:\n",
    "* chain_hash - denotes the exact blockchain that the opened channel will reside within.\n",
    "* funding_satoshis - is the amount the sender is putting into the channel\n",
    "* push_msat - is an amount of initial funds that the sender is unconditionally giving to the receiver.\n",
    "* funding_pubkey - is the public key in the 2-of-2 multisig script of the funding transaction output.\n"
   ]
  },
  {
   "cell_type": "markdown",
   "id": "24f53eff-7007-482c-a8a2-c73dcbbef8f4",
   "metadata": {},
   "source": [
    "If Bob does not agree with the criterias sent into the `open_channel` message he send a [`error_message`](https://github.com/lightning/bolts/blob/master/01-messaging.md#the-error-and-warning-messages) back to Alice, otherwise he sends the [`accept_channel`](https://github.com/lightning/bolts/blob/master/02-peer-protocol.md#the-accept_channel-message) message, containing some operational criterias from your side, here we are going to focus on the information that are used in the funding transaction:\n",
    "* funding_pubkey - is the public key in the 2-of-2 multisig script of the funding transaction output."
   ]
  },
  {
   "cell_type": "code",
   "execution_count": null,
   "id": "65efcc48-e4e3-4d18-a287-7a28749558e8",
   "metadata": {},
   "outputs": [],
   "source": []
  },
  {
   "cell_type": "code",
   "execution_count": null,
   "id": "e1c8a866-d519-477a-88af-0beaebf4e709",
   "metadata": {},
   "outputs": [],
   "source": []
  }
 ],
 "metadata": {
  "kernelspec": {
   "display_name": "Python 3 (ipykernel)",
   "language": "python",
   "name": "python3"
  },
  "language_info": {
   "codemirror_mode": {
    "name": "ipython",
    "version": 3
   },
   "file_extension": ".py",
   "mimetype": "text/x-python",
   "name": "python",
   "nbconvert_exporter": "python",
   "pygments_lexer": "ipython3",
   "version": "3.12.3"
  }
 },
 "nbformat": 4,
 "nbformat_minor": 5
}
