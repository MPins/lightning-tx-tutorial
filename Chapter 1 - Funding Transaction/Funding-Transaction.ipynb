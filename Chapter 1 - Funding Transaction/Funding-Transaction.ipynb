{
 "cells": [
  {
   "cell_type": "markdown",
   "id": "70ade43f-214e-4c6b-a3ea-eff5646df854",
   "metadata": {},
   "source": [
    "# Creating a Funding Transaction\n",
    "\n",
    "In this section, we’ll create a Lightning channel funding transaction from scratch using Python. We’ll walk through each part of the transaction—how it’s constructed, signed, and how peers exchange messages to share the necessary information to make it happen. We'll test everything using Bitcoin Core in regtest mode.\n",
    "\n",
    "## Prerequisite knowledge\n",
    "### For all notebooks\n",
    "- A high level understanding of the bitcoin. e.g. [Mastering Bitcoin](https://github.com/bitcoinbook/bitcoinbook), in particular [Chapter 6](https://github.com/bitcoinbook/bitcoinbook/blob/develop/ch06.asciidoc).\n",
    "- A conceptual understanding of [hash functions](https://www.thesslstore.com/blog/what-is-a-hash-function-in-cryptography-a-beginners-guide).\n",
    "- [Hexadecimal notation](https://inst.eecs.berkeley.edu/~cs61bl/r//cur/bits/decimal-binary-hex.html?topic=lab28.topic&step=2&course=) and [endianness](https://www.freecodecamp.org/news/what-is-endianness-big-endian-vs-little-endian/).\n",
    "- A high level understanding of the lightning e.g. [Mastering Lightning Network](https://github.com/lnbook/lnbook), in particular [Chapter7](https://github.com/lnbook/lnbook/blob/develop/07_payment_channels.asciidoc), [Chapter 8](https://github.com/lnbook/lnbook/blob/develop/08_routing_htlcs.asciidoc) and [Chapter 9](https://github.com/lnbook/lnbook/blob/develop/09_channel_operation.asciidoc).\n",
    "\n",
    "### Specific to this notebook:\n",
    "- SHA256, HASH256, HASH160 - '[Hash Functions chapter](https://github.com/MPins/lightning-tx-tutorial/blob/main/appendix/hash-functions.ipynb)'\n",
    "- Bech32 addresses - '[Addresses chapter](https://github.com/MPins/lightning-tx-tutorial/blob/main/appendix/Addresses.ipynb)'\n",
    "- Bitcoin Script basics - '[Bitcoin Script chapter](https://github.com/MPins/lightning-tx-tutorial/blob/main/appendix/Bitcoin%20Script.ipynb)'\n",
    "- Lightning Network BOLT #2: '[Peer Protocol for Channel Management](https://github.com/lightning/bolts/blob/master/02-peer-protocol.md#channel-establishment-v1)'\n",
    "- Lightning Network Bolt #3: '[Funding Transaction Output](https://github.com/lightning/bolts/blob/master/03-transactions.md#funding-transaction-output)'"
   ]
  },
  {
   "cell_type": "markdown",
   "id": "997345fc-359f-40ba-bb1f-4ccbbe6de230",
   "metadata": {},
   "source": [
    "## Channel Establishment v1\n",
    "\n",
    "The Basis of Lightning Technology ([BOLT](https://github.com/lightning/bolts/blob/master/00-introduction.md)) defines two pathways to create a channel, lets focus on the legacy one because most of the channels are created using it.\n",
    "\n",
    "    +-----------+                              +---------+\n",
    "    |           |--(1)---  open_channel  ----->|         |\n",
    "    |           |<-(2)--  accept_channel  -----|         |\n",
    "    |           |                              |         |\n",
    "    |   Alice   |--(3)--  funding_created  --->|   Bob   |\n",
    "    |           |<-(4)--  funding_signed  -----|         |\n",
    "    |           |                              |         |\n",
    "    |           |--(5)---  channel_ready  ---->|         |\n",
    "    |           |<-(6)---  channel_ready  -----|         |\n",
    "    +-----------+                              +---------+\n",
    "\n",
    "    - where node Alice is 'funder' and node Bob is 'fundee'\n",
    "\n",
    "Alice sends the [`open_channel`](https://github.com/lightning/bolts/blob/master/02-peer-protocol.md#the-open_channel-message) message to Bob. This message defines several operational parameters for the channel. Here, we’ll focus on the ones that are relevant to constructing the funding transaction:\n",
    "* chain_hash - Identifies the specific blockchain where the channel will be opened.\n",
    "* funding_satoshis - The amount of satoshis the sender is contributing to the channel.\n",
    "* funding_pubkey - The public key used in the 2-of-2 multisig script of the funding transaction output.\n",
    "\n",
    "If Bob doesn’t agree with the parameters sent in the `open_channel` message, he sends an [`error_message`](https://github.com/lightning/bolts/blob/master/01-messaging.md#the-error-and-warning-messages) back to Alice. Otherwise, he replies with an [`accept_channel`](https://github.com/lightning/bolts/blob/master/02-peer-protocol.md#the-accept_channel-message) message, which includes some parameters from his side. Here, we’ll focus on the ones relevant to the funding transaction:\n",
    "* funding_pubkey - The public key used in the 2-of-2 multisig script that locks the output of the funding transaction.\n",
    "\n",
    "## The Funding Transaction\n",
    "\n",
    "The funding transaction input can consist of one or more UTXOs from Alice (the funder).The outputs include a change output back to Alice and a P2WSH (Pay-to-Witness-Script-Hash)<sup>[BIP141](https://github.com/bitcoin/bips/blob/master/bip-0141.mediawiki#witness-program)</sup> output that funds the channel. The order of the public keys in the output script is determined lexicographically: pubkey1 is the lesser of the two funding_pubkey values (in compressed format), and pubkey2 is the greater.\n",
    "\n",
    "`2 <pubkey1> <pubkey2> 2 OP_CHECKMULTISIG`\n",
    "\n",
    "## Setup \n",
    "\n",
    "### Requirements\n",
    "For this chapter we'll need the Bitcoin Core. This notebook has been tested with [v28.0](https://github.com/bitcoin/bitcoin/releases/tag/v28.0).\n",
    "\n",
    "Below, set the paths for:\n",
    "1. The bitcoin core functional test framework directory.\n",
    "2. The directory containing lightning-tx-tutorial.\n",
    "\n",
    "**You'll need to edit these next two lines for your local setup.**"
   ]
  },
  {
   "cell_type": "code",
   "execution_count": 1,
   "id": "5b1ce9cb-5a55-4acc-a894-ce9cd4b2b58e",
   "metadata": {},
   "outputs": [],
   "source": [
    "path_to_bitcoin_functional_test = \"/home/pins-dev/Projects/bitcoin/test/functional\"\n",
    "path_to_bitcoin_tx_tutorial = \"/home/pins-dev/Projects/lightning-tx-tutorial\"\n",
    "\n",
    "import sys\n",
    "\n",
    "# Add the functional test framework to our PATH\n",
    "sys.path.insert(0, path_to_bitcoin_functional_test)\n",
    "from test_framework.test_shell import TestShell\n",
    "\n",
    "# Add the lightning-tx-tutorial functions to our PATH\n",
    "sys.path.insert(0, path_to_bitcoin_tx_tutorial)\n",
    "from functions import *\n",
    "\n",
    "import json"
   ]
  },
  {
   "cell_type": "code",
   "execution_count": 2,
   "id": "89ae8d19-1ec7-4ccf-a14c-faaa6c8f546e",
   "metadata": {},
   "outputs": [
    {
     "name": "stdout",
     "output_type": "stream",
     "text": [
      "Alice Per Commitment Seed 34b581ec20bf2c6cae3d4d4dcbfddc8a3727a1e9a57c55f3520e770607898c06\n",
      "Bob Per Commitment Seed 89c994b3ddad4698acee71e42d8bcace48eea739caaba371eb110e77663ec56d\n",
      "Alice Revocation Basepoint Private Key: c17ac3952ca414190074d1e59ea03fbae253196173908dc8b131af6bd2cc8161\n",
      "Alice Revocation Basepoint Public Key: 03649c4f865bec74b0a186deef4defad51cfdc141443e38074ea05a7835a953a49\n",
      "Alice HTLC Basepoint Private Key: 763ae49a20e6668c88602c782716dd83ba6c4cc0333b38810e2bcd7b22c871ac\n",
      "Alice HTLC Basepoint Public Key: 02816fde4150e4dfcac94eff0b821448fb70f57a56148ba2206cd9b2fd0cc20bdf\n",
      "Alice Payment Basepoint Private Key: 72d8c12971b58076a1f27eb7938ca442f0b210762b23637443ac2e99dac352a6\n",
      "Alice Payment Basepoint Public Key: 025f892a06124391e2f38ce35d943cdc09f63e203330dbd9cb6113a903e0738458\n",
      "Alice Delayed Payment Basepoint Private Key: 7cafce00c54e7241894dcc7c3beaca29dd354139fdb6182198d6c5f1063bfe8d\n",
      "Alice Delayed Payment Basepoint Public Key: 034aa35219136bb238e072341b20a4bf8fb44a83cdb73dd2bd973c123ac2dfd7ff\n",
      "Bob Revocation Basepoint Private Key: fa526e09b9ff7425552db1803d7e12cf4475d060db4cfb812adb07219a54baa0\n",
      "Bob Revocation Basepoint Public Key: 02536407aada57068f30b53c4126062d235967c3636147433e72b21ff93c8acdbf\n",
      "Bob HTLC Basepoint Private Key: 06d61bb059eef194a3d223992a028fbd31f2e8b289d5a10acd343671c9322155\n",
      "Bob HTLC Basepoint Public Key: 0306b11436efa058a86f997df6596ea4579241f3909175772d77df38a5255f52f4\n",
      "Bob Payment Basepoint Private Key: 5046024e716c479599350b7aee8139304d942360733d8dd79793917f9e33a334\n",
      "Bob Payment Basepoint Public Key: 02f98efd3f2b2fbe7bd83c419f5f64f8280798b8a9175fdb77c0091bbb95c79506\n",
      "Bob Delayed Payment Basepoint Private Key: d764d4c083cac97d34913bdf123c3dfef5379db9e9b0652897783e0d01880bb3\n",
      "Bob Delayed Payment Basepoint Public Key: 032a5869ac5eb30ba1e9c9addd3740822dac6f45a8de9b3d4e171f14c3abce2dae\n",
      "Alice Funding Private Key: ccd60731893309bb59a6030a581fc80984fa96129e10cf8342c0b0b800ffb51c\n",
      "Alice Funding Public Key: 02245c997231079146616f70eae46dd43461b530cb55df50cac8ef321127adb963\n",
      "Alice Closing Address Private Key: 75e80013b88f2ffa07fc70652d7721bdb1458304a6d0fb4d360c2b82098cba9b\n",
      "Alice Closing Address Public Key: 023cf1d744c5415046a18cf7b76cbe0af5e8609b80f20ea10d7ec98bf90dad67c8\n",
      "Alice Change Private Key: 6c2bda7af1291da770d0041794bbc891ac27c2fbe6a8a825a8f14f3b904b1f4e\n",
      "Alice Change Public Key: 02f0006732c6db9e73522b31168bda043cbf7759c46e553eae9dede26ccd08a39b\n",
      "Bob Funding Private Key: ca62b96f01783d13a48be4e8a2ca9c48093f62b64537d4c3c33d45d7cb53a0a7\n",
      "Bob Funding Public Key: 032b057a643c7b928b7dc30e1f76c2a777a213fe3a7462215d10220844befe77c3\n",
      "Bob Closing Address Private Key: 453009ee716540e6fd5027fd2ae20534dfe6087a07d21b870b2ee118b8d92b14\n",
      "Bob Closing Address Public Key: 02e824f6d9d38195d93768870e952ae010fab2347e7228d42ff324705a4f1e3201\n"
     ]
    }
   ],
   "source": [
    "# run notebook\n",
    "%run \"/home/pins-dev/Projects/lightning-tx-tutorial/Chapter 0 - Key Derivation/The Lightning Node Keys Derivation.ipynb\""
   ]
  },
  {
   "cell_type": "markdown",
   "id": "1ce2c7e4-0081-418c-a35b-2f5c654ca6fa",
   "metadata": {},
   "source": [
    "### Creating the Inputs of the Channel Funding Transaction\n",
    "\n",
    "In order for Alice to be the funder of the channel, we’ll first create a P2WPKH UTXO. To do that, we’ll use the keys previously generated for Alice’s node (in the previous notebook), convert them to P2WPKH addresses, and send 0.201 BTC to Alice’s funding address. This transaction will serve as the input to the channel funding transaction."
   ]
  },
  {
   "cell_type": "code",
   "execution_count": 3,
   "id": "15d3aebd-89fd-4d89-84c8-6576dc1df3ad",
   "metadata": {},
   "outputs": [
    {
     "name": "stdout",
     "output_type": "stream",
     "text": [
      "Alice's funding p2wpkh address: bcrt1qt0vq5dj8qa720lfx3hhzyu9ygsng9js3g02lnl\n",
      "Alice's change p2wpkh address: bcrt1qt6ax8rh20h6zts0dcqmzdy9kte3pds4lrzwl6s\n",
      "2025-04-30T18:43:42.019000Z TestFramework (INFO): PRNG seed is: 6217689809071432652\n",
      "2025-04-30T18:43:42.021000Z TestFramework (INFO): Initializing test directory /tmp/bitcoin_func_test_xagmrbny\n",
      "txid_to_spent: f85e808553957ebc568a089619a595e1ce121bd012f931024b0bea9015bd11fb, 1\n"
     ]
    }
   ],
   "source": [
    "alice_funding_address = pk_to_p2wpkh(bytes.fromhex(alice_funding_pubkey), network = \"regtest\")\n",
    "print(\"Alice's funding p2wpkh address: \" + alice_funding_address)\n",
    "alice_change_address = pk_to_p2wpkh(bytes.fromhex(alice_change_pubkey), network = \"regtest\")\n",
    "print(\"Alice's change p2wpkh address: \" + alice_change_address)\n",
    "\n",
    "node = setup_testshell()\n",
    "txid_to_spend, index_to_spend = fund_address(node, alice_funding_address, 0.201)\n",
    "print(f\"txid_to_spent: {txid_to_spend}, {index_to_spend}\")"
   ]
  },
  {
   "cell_type": "markdown",
   "id": "967aa175-387b-407a-8de2-e629132461cc",
   "metadata": {},
   "source": [
    "### Creating the Outputs of the Channel Funding Transaction\n",
    "\n",
    "To create the outputs of the channel funding transaction, we’ll first construct the 2-of-2 multisig redeem script and convert it into a P2WSH address. The other output will be a change address belonging to Alice, who is funding the channel."
   ]
  },
  {
   "cell_type": "code",
   "execution_count": 4,
   "id": "6e989e07-63cd-4b48-8bbc-7cce886883b1",
   "metadata": {},
   "outputs": [
    {
     "name": "stdout",
     "output_type": "stream",
     "text": [
      "Alice pubkey is lexicographically lesser than Bob pubkey:\n",
      "02245c997231079146616f70eae46dd43461b530cb55df50cac8ef321127adb963 < 032b057a643c7b928b7dc30e1f76c2a777a213fe3a7462215d10220844befe77c3\n",
      "Redeem Script:\n",
      "522102245c997231079146616f70eae46dd43461b530cb55df50cac8ef321127adb96321032b057a643c7b928b7dc30e1f76c2a777a213fe3a7462215d10220844befe77c352ae\n",
      "channel_address:  bcrt1qhsn37ekwjgxlajuavyzne28yrahkyesgnr6qhxvzlw3807ttcjeqhcl6mc\n"
     ]
    }
   ],
   "source": [
    "# Compare the public keys lexicographically\n",
    "if alice_funding_pubkey < bob_funding_pubkey:\n",
    "    print(f\"Alice pubkey is lexicographically lesser than Bob pubkey:\\n{alice_funding_pubkey} < {bob_funding_pubkey}\")\n",
    "    pubkey1 = alice_funding_pubkey\n",
    "    pubkey2 = bob_funding_pubkey\n",
    "elif alice_funding_pubkey > bob_funding_pubkey:\n",
    "    print(f\"Alice pubkey is lexicographically greater than Bob pubkey:\\n{alice_funding_pubkey} > {bob_funding_pubkey}\")\n",
    "    pubkey2 = alice_funding_pubkey\n",
    "    pubkey1 = bob_funding_pubkey\n",
    "else:\n",
    "    print(\"Error: the public keys are equal.\")\n",
    "\n",
    "# Redeem Script: 2 <pubkey1> <pubkey2> 2 OP_CHECKMULTISIG\n",
    "# \"21\" is the length of a 33 bytes (compressed) pubkey in hex notation\n",
    "redeemScript = bytes.fromhex(\n",
    "    \"52\"           # requires 2 signatures\n",
    "    + \"21\"         # First pubkey\n",
    "    + pubkey1      \n",
    "    + \"21\"         # Second pubkey\n",
    "    + pubkey2\n",
    "    + \"52\"         # of 2 signatures \n",
    "    + \"ae\")        # OP_CHECKMULTISIG\n",
    "\n",
    "print(f\"Redeem Script:\\n{redeemScript.hex()}\")\n",
    "\n",
    "channel_address = script_to_p2wsh(redeemScript, \"regtest\")\n",
    "print(\"channel_address: \",channel_address)\n",
    "\n",
    "# Our outputs\n",
    "# Output1 is the Alice Change P2WPKH\n",
    "output1_value_sat = int(float(\"0.15\") * 100000000)\n",
    "pk_hash = hash160(bytes.fromhex(alice_change_pubkey))\n",
    "# Output2 is the Channel P2WSH\n",
    "# The channel capacity is 5.000.000 of satoshis\n",
    "output2_value_sat = int(float(\"0.05\") * 100000000)\n",
    "script_hash = hashlib.sha256(redeemScript).digest()\n",
    "# The Alice UTXO was 0.201, we are leaving 0.001 as the fee of the funding trransaction"
   ]
  },
  {
   "cell_type": "markdown",
   "id": "ccfcef05-aeaa-4c87-b294-bbf92138bdb2",
   "metadata": {},
   "source": [
    "### Creating the Unsigned Channel Funding Transaction\n",
    "\n",
    "Now that we’ve defined all the necessary components, we can populate the fields required to construct our unsigned transaction. A transaction is considered unsigned when its witness field is left empty."
   ]
  },
  {
   "cell_type": "code",
   "execution_count": 5,
   "id": "6823308b-e949-4715-9705-84ed9ebcd919",
   "metadata": {},
   "outputs": [
    {
     "name": "stdout",
     "output_type": "stream",
     "text": [
      "unsigned_channel_funding_tx:  0200000001fb11bd1590ea0b4b0231f912d01b12cee195a51996088a56bc7e955385805ef80100000000ffffffff02c0e1e400000000001600145eba638eea7df425c1edc0362690b65e6216c2bf404b4c0000000000220020bc271f66ce920dfecb9d61053ca8e41f6f62660898f40b9982fba277f96bc4b200000000\n"
     ]
    }
   ],
   "source": [
    "# VERSION\n",
    "# version '2' indicates that we may use relative timelocks (BIP68)\n",
    "version = bytes.fromhex(\"0200 0000\")\n",
    "\n",
    "# MARKER\n",
    "marker = bytes.fromhex(\"00\")\n",
    "\n",
    "# FLAG\n",
    "flag = bytes.fromhex(\"01\")\n",
    "\n",
    "# INPUTS\n",
    "# We have just 1 input\n",
    "input_count = bytes.fromhex(\"01\")\n",
    "\n",
    "# Convert txid and index to bytes (little endian)\n",
    "txid = (bytes.fromhex(txid_to_spend))[::-1]\n",
    "index = index_to_spend.to_bytes(4, byteorder=\"little\", signed=False)\n",
    "\n",
    "# For the unsigned transaction we use an empty scriptSig\n",
    "scriptsig = bytes.fromhex(\"\")\n",
    "\n",
    "# use 0xffffffff unless you are using OP_CHECKSEQUENCEVERIFY, locktime, or rbf\n",
    "sequence = bytes.fromhex(\"ffff ffff\")\n",
    "\n",
    "inputs = (\n",
    "    txid\n",
    "    + index\n",
    "    + varint_len(scriptsig)\n",
    "    + scriptsig\n",
    "    + sequence\n",
    ")\n",
    "\n",
    "# OUTPUTS\n",
    "# 0x02 for out two outputs\n",
    "output_count = bytes.fromhex(\"02\")\n",
    "\n",
    "# OUTPUT 1 to Alice Change Address\n",
    "output1_value = output1_value_sat.to_bytes(8, byteorder=\"little\", signed=True)\n",
    "# 'output1_spk' \n",
    "output1_spk = bytes.fromhex(\"0014\") + pk_hash\n",
    "\n",
    "\n",
    "# OUTPUT 2 to Channel Funding Address\n",
    "output2_value = output2_value_sat.to_bytes(8, byteorder=\"little\", signed=True)\n",
    "# 'output2_spk'\n",
    "output2_spk = bytes.fromhex(\"0020\") + script_hash\n",
    "\n",
    "outputs = (\n",
    "    output1_value\n",
    "    + varint_len(output1_spk)\n",
    "    + output1_spk\n",
    "    + output2_value\n",
    "    + varint_len(output2_spk)\n",
    "    + output2_spk\n",
    ")\n",
    "\n",
    "# LOCKTIME\n",
    "locktime = bytes.fromhex(\"0000 0000\")\n",
    "\n",
    "unsigned_channel_funding_tx = (\n",
    "    version\n",
    "    + input_count\n",
    "    + inputs\n",
    "    + output_count\n",
    "    + outputs\n",
    "    + locktime\n",
    ")\n",
    "\n",
    "print(\"unsigned_channel_funding_tx: \", unsigned_channel_funding_tx.hex())\n",
    "\n"
   ]
  },
  {
   "cell_type": "markdown",
   "id": "4989d85d-f7b9-444e-905b-6431a8bd6f8c",
   "metadata": {},
   "source": [
    "We can decode this raw transaction to inspect its structure and verify that it contains all the necessary information—except for the SegWit-specific fields: the marker, the flag, and the witness data."
   ]
  },
  {
   "cell_type": "code",
   "execution_count": 6,
   "id": "238b067c-4ee0-4595-8c9b-849046fd0be4",
   "metadata": {},
   "outputs": [
    {
     "name": "stdout",
     "output_type": "stream",
     "text": [
      "{\n",
      "  \"txid\": \"f5cab2ef35440545d4342371037a439556103692338feaac593ceac09b8649f6\",\n",
      "  \"hash\": \"f5cab2ef35440545d4342371037a439556103692338feaac593ceac09b8649f6\",\n",
      "  \"version\": 2,\n",
      "  \"size\": 125,\n",
      "  \"vsize\": 125,\n",
      "  \"weight\": 500,\n",
      "  \"locktime\": 0,\n",
      "  \"vin\": [\n",
      "    {\n",
      "      \"txid\": \"f85e808553957ebc568a089619a595e1ce121bd012f931024b0bea9015bd11fb\",\n",
      "      \"vout\": 1,\n",
      "      \"scriptSig\": {\n",
      "        \"asm\": \"\",\n",
      "        \"hex\": \"\"\n",
      "      },\n",
      "      \"sequence\": 4294967295\n",
      "    }\n",
      "  ],\n",
      "  \"vout\": [\n",
      "    {\n",
      "      \"value\": \"0.15000000\",\n",
      "      \"n\": 0,\n",
      "      \"scriptPubKey\": {\n",
      "        \"asm\": \"0 5eba638eea7df425c1edc0362690b65e6216c2bf\",\n",
      "        \"desc\": \"addr(bcrt1qt6ax8rh20h6zts0dcqmzdy9kte3pds4lrzwl6s)#s9wdm0cm\",\n",
      "        \"hex\": \"00145eba638eea7df425c1edc0362690b65e6216c2bf\",\n",
      "        \"address\": \"bcrt1qt6ax8rh20h6zts0dcqmzdy9kte3pds4lrzwl6s\",\n",
      "        \"type\": \"witness_v0_keyhash\"\n",
      "      }\n",
      "    },\n",
      "    {\n",
      "      \"value\": \"0.05000000\",\n",
      "      \"n\": 1,\n",
      "      \"scriptPubKey\": {\n",
      "        \"asm\": \"0 bc271f66ce920dfecb9d61053ca8e41f6f62660898f40b9982fba277f96bc4b2\",\n",
      "        \"desc\": \"addr(bcrt1qhsn37ekwjgxlajuavyzne28yrahkyesgnr6qhxvzlw3807ttcjeqhcl6mc)#q3fvp06p\",\n",
      "        \"hex\": \"0020bc271f66ce920dfecb9d61053ca8e41f6f62660898f40b9982fba277f96bc4b2\",\n",
      "        \"address\": \"bcrt1qhsn37ekwjgxlajuavyzne28yrahkyesgnr6qhxvzlw3807ttcjeqhcl6mc\",\n",
      "        \"type\": \"witness_v0_scripthash\"\n",
      "      }\n",
      "    }\n",
      "  ]\n",
      "}\n"
     ]
    }
   ],
   "source": [
    "decoded = node.decoderawtransaction(unsigned_channel_funding_tx.hex())\n",
    "print(json.dumps(decoded, indent=2, default=str))"
   ]
  },
  {
   "cell_type": "markdown",
   "id": "46f94c47-213c-4738-a29b-d6f1f2593223",
   "metadata": {},
   "source": [
    "### Signing the Channel Funding Transaction\n",
    "\n",
    "SegWit transactions follow a signing scheme defined in [BIP143](https://github.com/bitcoin/bips/blob/master/bip-0143.mediawiki). Depending on the sighash type (ALL, NONE, SINGLE, ANYONECANPAY), a transaction digest is produced by double-SHA256 hashing a serialized subset of the transaction, known as the tx_digest_preimage. The resulting digest is then signed and verified against a given public key.\n",
    "\n",
    "#### Creating the Transaction Digest "
   ]
  },
  {
   "cell_type": "code",
   "execution_count": 7,
   "id": "ecb926cb-00d2-43ed-9be4-2844116f88d0",
   "metadata": {},
   "outputs": [
    {
     "name": "stdout",
     "output_type": "stream",
     "text": [
      "tx_digest_preimage:  0200000007659a155d29e1a6012cb55a58b4d4093e64d23282b2c1ab510d91bf9136084a3bb13029ce7b1f559ef5e747fcac439f1455a2ec7c5f09b72290795e70665044fb11bd1590ea0b4b0231f912d01b12cee195a51996088a56bc7e955385805ef8010000001976a9145bd80a3647077ca7fd268dee2270a4442682ca1188aca0b3320100000000fffffffff024a453c206730b975be44da5987693c127c508aada9aabadc9455fb74b5fc60000000001000000\n"
     ]
    }
   ],
   "source": [
    "pk_hash = hash160(bytes.fromhex(alice_funding_pubkey))\n",
    "# OP_DUP\n",
    "# OP_HASH160\n",
    "# OP_PUSHDATA\n",
    "# PK_HASH\n",
    "# OP_EQUALVERIFY\n",
    "# OP_CHECKSIG\n",
    "\n",
    "scriptcode = bytes.fromhex(\n",
    "    \"76\"   # OP_DUP\n",
    "    + \"a9\" # OP_HASH160\n",
    "    + \"14\" # OP_PUSHDATA\n",
    "    + pk_hash.hex()\n",
    "    + \"88\"  # OP_EQUALVERIFY\n",
    "    + \"ac\"  # OP_CHECKSIG\n",
    ")\n",
    "\n",
    "\n",
    "input_amount_sat = int(0.201 * 100_000_000)\n",
    "value = input_amount_sat.to_bytes(8, byteorder=\"little\", signed=False)\n",
    "\n",
    "hashPrevOuts = hash256(txid + index)\n",
    "hashSequence = hash256(sequence)\n",
    "hashOutputs = hash256(outputs)\n",
    "sighash_type = bytes.fromhex(\"0100 0000\") # SIGHASH_ALL\n",
    "\n",
    "tx_digest_preimage = (\n",
    "    version\n",
    "    + hashPrevOuts\n",
    "    + hashSequence\n",
    "    + txid\n",
    "    + index\n",
    "    + varint_len(scriptcode)\n",
    "    + scriptcode\n",
    "    + value\n",
    "    + sequence\n",
    "    + hashOutputs\n",
    "    + locktime\n",
    "    + sighash_type\n",
    ")\n",
    "print(\"tx_digest_preimage: \",tx_digest_preimage.hex())"
   ]
  },
  {
   "cell_type": "markdown",
   "id": "628b07a1-a37b-4cb9-a7fe-c23683554f4d",
   "metadata": {},
   "source": [
    "#### Creating the Signed Transaction\n",
    "\n",
    "Now we’re ready to hash the transaction digest preimage and produce an ECDSA signature for it.\n",
    "\n",
    "It’s important to note that when appending the sighash flag to the transaction preimage, we use 4 bytes (e.g., 0x01000000). However, when appending the sighash flag to the end of the signature itself, we use only 1 byte (0x01).\n",
    "\n",
    "In this example, we’re using the most common flag: SIGHASH_ALL, which ensures that the input is only valid in a transaction with these exact inputs and outputs."
   ]
  },
  {
   "cell_type": "code",
   "execution_count": 8,
   "id": "b7b95644-9f14-4ce9-a536-e3dd87ee92ad",
   "metadata": {},
   "outputs": [
    {
     "name": "stdout",
     "output_type": "stream",
     "text": [
      "Channel Funding Signed Transaction:  02000000000101fb11bd1590ea0b4b0231f912d01b12cee195a51996088a56bc7e955385805ef80100000000ffffffff02c0e1e400000000001600145eba638eea7df425c1edc0362690b65e6216c2bf404b4c0000000000220020bc271f66ce920dfecb9d61053ca8e41f6f62660898f40b9982fba277f96bc4b202483045022100cf02c3473b90966b6aaf78a01e97579694115d518cbcf1133af5ee2a5a7faa6a02206e9d46bc22c82d6215c87353a2f659c3f3e2f41eb6e8cc3a2887f2f0746ec137012102245c997231079146616f70eae46dd43461b530cb55df50cac8ef321127adb96300000000\n"
     ]
    }
   ],
   "source": [
    "# Create the Transaction Digest (sigHash) to be signed\n",
    "sighash = hash256(tx_digest_preimage)\n",
    "\n",
    "# Sign the sigHash with the input private key\n",
    "signing_key = ecdsa.SigningKey.from_string(bytes.fromhex(alice_funding_privkey), curve=ecdsa.SECP256k1) \n",
    "signature = signing_key.sign_digest(sighash, sigencode=ecdsa.util.sigencode_der_canonize)\n",
    "\n",
    "# Append SIGHASH_ALL to the signature\n",
    "signature = signature + bytes.fromhex(\"01\")\n",
    "\n",
    "# Witness field\n",
    "witness = (\n",
    "    # indicate the number of stack items for the txin\n",
    "    # 2 items for signature and pubkey\n",
    "    bytes.fromhex(\"02\")\n",
    "    + varint_len(signature)\n",
    "    + signature\n",
    "    + varint_len(bytes.fromhex(alice_funding_pubkey))\n",
    "    + bytes.fromhex(alice_funding_pubkey)\n",
    ")\n",
    "\n",
    "# the final signed transaction\n",
    "signed_channel_funding_tx = (\n",
    "    version\n",
    "    + marker\n",
    "    + flag\n",
    "    + input_count\n",
    "    + inputs # scriptsig left empty as espcified on BIP\n",
    "    + output_count\n",
    "    + outputs\n",
    "    + witness\n",
    "    + locktime\n",
    ")\n",
    "\n",
    "print(\"Channel Funding Signed Transaction: \",signed_channel_funding_tx.hex())"
   ]
  },
  {
   "cell_type": "markdown",
   "id": "072d1591-a71e-42d2-806d-3d563b8a3b3f",
   "metadata": {},
   "source": [
    "### The `funding_created` and `funding_signed` Messages\n",
    "\n",
    "Now Alice can send Bob the [`funding_created`](https://github.com/lightning/bolts/blob/master/02-peer-protocol.md#the-funding_created-message) message, which includes the following information from the channel funding transaction:\n",
    "- funding_txid\n",
    "- funding_output_index\n",
    "- signature\n",
    "\n",
    "This message specifies the outpoint that Alice has created for the initial commitment transactions.\n",
    "\n",
    "Bob then replies with a [`funding signed`](https://github.com/lightning/bolts/blob/master/02-peer-protocol.md#the-funding_signed-message) message, which contains:\n",
    "- channel_id\n",
    "- signature (Bobs signature for the First Commitment Transaction)\n",
    "\n",
    "Important: Alice must never broadcast the channel funding transaction before receiving Bob’s signature for the first commitment transaction. Otherwise, she would have to trust Bob to cooperate in order to retrieve her funds from the multisig UTXO.\n",
    "\n",
    "In the [first commitment transaction notebook](https://github.com/MPins/lightning-tx-tutorial/blob/master/Chapter%202%20-%20Commitment%20Transactions/First%20Commitment%20Transactions.ipynb) , we’ll go into detail on how these transactions are constructed.\n",
    "\n",
    "Once Alice receives Bob’s signature in the `funding_signed` message, she can safely broadcast the channel funding transaction."
   ]
  },
  {
   "cell_type": "code",
   "execution_count": 9,
   "id": "25b15475-2b58-41f1-8e59-b691492038ee",
   "metadata": {},
   "outputs": [
    {
     "data": {
      "text/plain": [
       "['6f9228f30646001bbdb5d39a24ba9bdbdf0f1efd481795f5e70eb786b8e202bb']"
      ]
     },
     "execution_count": 9,
     "metadata": {},
     "output_type": "execute_result"
    }
   ],
   "source": [
    "new_tx_txid = node.sendrawtransaction(signed_channel_funding_tx.hex())\n",
    "# Mine a block to confirm the tx\n",
    "mining_address = node.getnewaddress()\n",
    "node.generatetoaddress(nblocks=1, address=mining_address, invalid_call=False)"
   ]
  }
 ],
 "metadata": {
  "kernelspec": {
   "display_name": "Python 3 (ipykernel)",
   "language": "python",
   "name": "python3"
  },
  "language_info": {
   "codemirror_mode": {
    "name": "ipython",
    "version": 3
   },
   "file_extension": ".py",
   "mimetype": "text/x-python",
   "name": "python",
   "nbconvert_exporter": "python",
   "pygments_lexer": "ipython3",
   "version": "3.12.3"
  }
 },
 "nbformat": 4,
 "nbformat_minor": 5
}
