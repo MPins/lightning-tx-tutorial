{
 "cells": [
  {
   "cell_type": "markdown",
   "id": "8c0cbe4a-2ea6-4cb8-a261-cd0f3f2030af",
   "metadata": {},
   "source": [
    "*** UNDER CONSTRUCTION ***"
   ]
  },
  {
   "cell_type": "markdown",
   "id": "3071aec5-5dd7-46a5-9e1c-0b6b35e868bc",
   "metadata": {},
   "source": [
    "# Sweeper Subsystem in a Lightning Node\n",
    "\n",
    "In the context of Bitcoin Lightning nodes, a Sweeper is a subsystem responsible for safely and efficiently spending on-chain outputs that:\n",
    "\n",
    "- Result from channel force closures\n",
    "    - Come from HTLCs\n",
    "    - Are timelocked outputs that require careful handling\n",
    "\n",
    "The sweeper ensures those funds are claimed before anyone else (e.g. a counterparty in a channel closure) can take them — especially important for **time-sensitive** outputs.\n",
    "\n",
    "A **sweeper system** in a Lightning node is responsible for securely and efficiently claiming on-chain funds, especially after channel closures or timeout events. When a Lightning channel force closes, the node might need to claim various outputs — like its balance or HTLCs — some of which are time-locked. The sweeper watches the blockchain and, once outputs become spendable, it creates and broadcasts transactions to sweep those funds back into the wallet, often batching multiple outputs to save on fees.\n",
    "\n",
    "For example, if you force-close a channel, your node might have to wait for a timelock (e.g., 144 blocks) before claiming an HTLC refund. The sweeper tracks this, and once it’s ready, it automatically crafts a transaction to claim that output. It can adjust fees dynamically, retry if needed, and rebroadcast until the sweep confirms — ensuring no funds are lost or left behind.\n",
    "\n",
    "##  Why is the Sweeper Important?\n",
    "\n",
    "### Security\n",
    "If you don't sweep certain outputs in time (like from a revoked commitment), you could lose funds.\n",
    "\n",
    "### Efficiency\n",
    "It can batch outputs into a single transaction to save on fees.\n",
    "\n",
    "### Fee Management\n",
    "Sweeper uses dynamic fee estimation and can rebroadcast if a tx gets stuck.\n",
    "\n",
    "### Timelocks & Scripts\n",
    "Some outputs can't be spent immediately (e.g., CSV delays), so the sweeper watches the blockchain and acts when they're available."
   ]
  },
  {
   "cell_type": "markdown",
   "id": "d82eff48-ab60-42ea-aa2a-5aa3732fa3f8",
   "metadata": {},
   "source": []
  }
 ],
 "metadata": {
  "kernelspec": {
   "display_name": "Python 3 (ipykernel)",
   "language": "python",
   "name": "python3"
  },
  "language_info": {
   "codemirror_mode": {
    "name": "ipython",
    "version": 3
   },
   "file_extension": ".py",
   "mimetype": "text/x-python",
   "name": "python",
   "nbconvert_exporter": "python",
   "pygments_lexer": "ipython3",
   "version": "3.12.3"
  }
 },
 "nbformat": 4,
 "nbformat_minor": 5
}
